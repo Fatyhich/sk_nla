{
 "cells": [
  {
   "cell_type": "markdown",
   "metadata": {
    "id": "5IKq_VeVlZXv"
   },
   "source": [
    "# Problem Set 2"
   ]
  },
  {
   "cell_type": "markdown",
   "metadata": {},
   "source": [
    "#### Done by **Fatykhoph Denis**, Skoltech, NLA, 2024"
   ]
  },
  {
   "cell_type": "markdown",
   "metadata": {
    "id": "xnRGMjaIwaML"
   },
   "source": [
    "## Tensor Train (10 pts)"
   ]
  },
  {
   "cell_type": "markdown",
   "metadata": {
    "id": "3X9T6bT2wdUP"
   },
   "source": [
    "**Tensor** is a multidimensional array of shape $n_1 \\times n_2 \\times ... \\times n_d$ where the number $d$ defines the dimensionality and every element can be get trough a multi-index $[i_1, i_2, \\dots, i_d]$. If $d=1$ such tensor is simply a vector and if $d=2$ it is a $n_1 \\times n_2$ matrix.\n",
    "\n",
    "**Tensor Train** is a special tensor representation form that enables to efficently store high-dimensional tensors and perform mathematical operation with them. It was proposed in [link](https://www.researchgate.net/profile/Ivan-Oseledets/publication/220412263_Tensor-Train_Decomposition/links/5bbfb5c5299bf1004c5a56e3/Tensor-Train-Decomposition.pdf). Basically instead of storing all tensor entries $A[1_1, i_2, \\dots, i_d]$ it was proposed to use a factorization trough specific 3D-tensors $G_i$ of shape $r_{i-1} \\times n_i \\times r_i$ that are called **cores**. Any entry $A[1_1, i_2, \\dots, i_d]$ of tensor A can thus be computed as:\n",
    "\n",
    "$$\n",
    "A[i_1, i_2, \\dots, i_d] =\n",
    "\\sum_{\\alpha_0=1}^{r_0}\n",
    "\\sum_{\\alpha_1=1}^{r_1}\n",
    "\\dots\n",
    "\\sum_{\\alpha_d=1}^{r_d}\n",
    "G_1[\\alpha_0, i_1, \\alpha_1] \\; \\cdot\n",
    "G_2[\\alpha_1, i_2, \\alpha_2] \\; \\cdot\n",
    "\\dots \\; \\cdot\n",
    "G_d[\\alpha_{d-1}, i_d, \\alpha_d],\n",
    "$$\n",
    "\n",
    "The numbers $r_i$ are are chosen during construction and called **ranks** of the representation:\n",
    "1. boundary ranks $r_0 = r_N = 1$, ensuring the summation collapses to a scalar.\n",
    "2. small ranks $r_i$ make the representation compact and memory efficient but increase the approximation error\n",
    "\n",
    "TT decomposition is a generalization of matrix factorizations like SVD to higher dimensions, adapted for tensors."
   ]
  },
  {
   "cell_type": "markdown",
   "metadata": {},
   "source": [
    "### Tensor Train Construction\n",
    "\n",
    "To construct the cores one needs to perform a TT-SVD algorithm: we start from $C_1 = A$ and then for every $k$ from 1 to $d$ we perform following steps untill we get all the cores:\n",
    "1. Unfold matrix $C_k = C_k.reshape(r_{k-1} n_k, \\prod_{i=k+1}^{d} n_i)$.\n",
    "2. Perform a low-rank SVD for $C_k$ and get the matrices $U_k, \\Sigma_k, V_k^*$ with rank $r_k <= \\text{rank}(C_k)$.\n",
    "3. Compute the core $G_k = U_k.reshape(r_{k-1}, n_k, r_k)$.\n",
    "4. Update the matrix $C_{k+1} = \\Sigma_k V_k^*$.\n",
    "\n",
    "**Task (10 pts):** Realize TT-SVD for $d$-dimensional tensor and check it for a random tensor."
   ]
  },
  {
   "cell_type": "code",
   "execution_count": null,
   "metadata": {
    "id": "Cx6iLXmjwcU5"
   },
   "outputs": [],
   "source": [
    "import numpy as np\n",
    "import matplotlib.pyplot as plt\n",
    "\n",
    "from icecream import ic"
   ]
  },
  {
   "cell_type": "code",
   "execution_count": null,
   "metadata": {},
   "outputs": [],
   "source": [
    "ar = np.random.uniform(1, 15, (2, 3, 4))\n",
    "len(ar.shape)\n",
    "\n",
    "t = ar.shape\n",
    "ic(t[1:])\n",
    "np.prod(ar.shape[1:])"
   ]
  },
  {
   "cell_type": "code",
   "execution_count": null,
   "metadata": {
    "id": "v8rQFCw2wgWG"
   },
   "outputs": [],
   "source": [
    "def tt_svd(tensor:np.ndarray,\n",
    "           max_rank:int = 10):\n",
    "    \"\"\"\n",
    "    Convert a tensor into a tensor train.\n",
    "    input : tensor - np.array of shape [n_1, n_2, ..., n_d]\n",
    "            max_rank - maximal number that ranks r_0, ..., r_d can reach\n",
    "    output: cores - list of d np.arrays of shape [r_i-1, n_i, r_i] for i in d\n",
    "    \"\"\"\n",
    "    upper_bound = len(tensor.shape) - 1\n",
    "    delta = ((max_rank/np.sqrt(upper_bound))\n",
    "            * np.linalg.norm(tensor.flatten()))\n",
    "    \n",
    "    temp_tensor_C = tensor\n",
    "    unfolding_rank = np.array([1,])\n",
    "    cores = []\n",
    "    for k in range(1, upper_bound):\n",
    "        # temp_tensor_C = temp_tensor_C.reshape(unfolding_rank * temp_tensor_C.shape[k],\n",
    "        #                                       np.prod(temp_tensor_C.shape[k:])) by formula\n",
    "\n",
    "        temp_tensor_C = temp_tensor_C.reshape(unfolding_rank[k - 1] * tensor.shape[k], -1)\n",
    "        u_k, sigma, v_k_T = np.linalg.svd(temp_tensor_C, full_matrices=False)\n",
    "        unfolding_rank = np.append(unfolding_rank, len(sigma))\n",
    "        core_k = u_k.reshape(unfolding_rank[k - 1], tensor.shape[k], -1)\n",
    "        cores.append(core_k)\n",
    "        temp_tensor_C = sigma @ v_k_T\n",
    "\n",
    "    # cores.append(temp_tensor_C)\n",
    "    cores.append(temp_tensor_C.reshape(unfolding_rank[-1], tensor.shape[-1], 1))\n",
    "\n",
    "    return cores\n",
    "\n",
    "d = 5\n",
    "max_mode = 10\n",
    "modes = np.random.randint(1, max_mode, size=(d))\n",
    "A = np.random.randn(*modes)\n",
    "tt_svd(A)\n"
   ]
  },
  {
   "cell_type": "markdown",
   "metadata": {},
   "source": [
    "Based on original paper:"
   ]
  },
  {
   "cell_type": "code",
   "execution_count": null,
   "metadata": {},
   "outputs": [],
   "source": [
    "def tt_svd(tensor: np.ndarray, epsilon: float = 1e-6):\n",
    "    \"\"\"\n",
    "    Convert a tensor into a tensor train using TT-SVD.\n",
    "    Input:\n",
    "        tensor - Input tensor of shape [n_1, n_2, ..., n_d].\n",
    "        epsilon: float - Desired accuracy for truncation.\n",
    "    Output:\n",
    "        cores: np.ndarray - List of TT-cores with shapes [r_i-1, n_i, r_i].\n",
    "    \"\"\"\n",
    "    d = len(tensor.shape)\n",
    "    delta = (epsilon / np.sqrt(d - 1)) * np.linalg.norm(tensor.flatten())\n",
    "    \n",
    "    temp_tensor_C = tensor\n",
    "    unfolding_rank = [1]\n",
    "    cores = []\n",
    "    \n",
    "    for k in range(d - 1):\n",
    "        temp_tensor_C = temp_tensor_C.reshape(unfolding_rank[k] * tensor.shape[k], -1)\n",
    "        u_k, sigma, v_k_T = np.linalg.svd(temp_tensor_C, full_matrices=False)\n",
    "        \n",
    "        truncation_indices = np.where(sigma > delta)[0]\n",
    "        u_k = u_k[:, truncation_indices]\n",
    "        sigma = sigma[truncation_indices]\n",
    "        v_k_T = v_k_T[truncation_indices, :]\n",
    "        \n",
    "        unfolding_rank.append(len(sigma))\n",
    "        core_k = u_k.reshape(unfolding_rank[k], tensor.shape[k], unfolding_rank[k + 1])\n",
    "        cores.append(core_k)\n",
    "        \n",
    "        temp_tensor_C = np.diag(sigma) @ v_k_T\n",
    "    \n",
    "    cores.append(temp_tensor_C.reshape(unfolding_rank[-1], tensor.shape[-1], 1))\n",
    "    \n",
    "    return cores\n",
    "\n",
    "# d = 5\n",
    "# max_mode = 10\n",
    "# modes = np.random.randint(1, max_mode, size=(d))\n",
    "# A = np.random.randn(*modes)\n",
    "# tt = tt_svd(A)"
   ]
  },
  {
   "cell_type": "markdown",
   "metadata": {
    "id": "TFq-xI9HwiQp"
   },
   "source": [
    "To check your algorithm you need to take a function `tt_to_tensor` that converts a tensor train back into a tensor, run it for a tensor train $\\mathcal{A}$ that you would get from your original tensor $A$, and compare $A$ and $A'$ in terms of low-rank approximation error and memory."
   ]
  },
  {
   "cell_type": "code",
   "execution_count": null,
   "metadata": {
    "id": "Snl1ZyE2witV"
   },
   "outputs": [],
   "source": [
    "def tt_to_tensor(cores):\n",
    "    \"\"\"\n",
    "    Convert a tensor train into a tensor.\n",
    "    input : cores - list of d np.arrays of shape [r_i-1, n_i, r_i] for i in d\n",
    "    output: tensor - np.array of shape [n_1, ..., n_d]\n",
    "    \"\"\"\n",
    "    tensor = cores[0]\n",
    "    for G in cores[1:]:\n",
    "        tensor = np.tensordot(tensor, G, 1)\n",
    "    return tensor[0, ..., 0]"
   ]
  },
  {
   "cell_type": "code",
   "execution_count": null,
   "metadata": {},
   "outputs": [],
   "source": [
    "for core in tt:\n",
    "    ic(core.shape)\n",
    "a_rec = tt_to_tensor(tt)\n",
    "ic(a_rec.shape)\n",
    "ic(A.shape)"
   ]
  },
  {
   "cell_type": "code",
   "execution_count": null,
   "metadata": {
    "id": "8oNBM6iOwkHC"
   },
   "outputs": [],
   "source": [
    "d = 5\n",
    "max_mode = 10\n",
    "modes = np.random.randint(1, max_mode, size=(d))\n",
    "A = np.random.randn(*modes)\n",
    "\n",
    "error = []\n",
    "memory = []\n",
    "bounds = np.array([1.e-01, 1.e-02, 1.e-03, 1.e-04, 1.e-05, 1.e-06])\n",
    "for epsilon in bounds:\n",
    "    A_tt = tt_svd(A, epsilon)\n",
    "    A_recovered = tt_to_tensor(A_tt)\n",
    "\n",
    "    error.append(np.linalg.norm(A_recovered - A))\n",
    "    memory.append(sum([np.prod(core.shape) for core in A_tt]))"
   ]
  },
  {
   "cell_type": "code",
   "execution_count": null,
   "metadata": {
    "id": "6oj9Zc1ywncE"
   },
   "outputs": [],
   "source": [
    "plt.figure(figsize=(10, 4))\n",
    "\n",
    "plt.subplot(1, 2, 1)\n",
    "plt.title('MSE')\n",
    "plt.plot(error)\n",
    "\n",
    "plt.subplot(1, 2, 2)\n",
    "plt.title('Memory')\n",
    "plt.plot(memory)\n",
    "\n",
    "plt.show()"
   ]
  },
  {
   "cell_type": "markdown",
   "metadata": {
    "id": "pxK6eedqwo9y"
   },
   "source": [
    "**Q** What can you say about the results?"
   ]
  },
  {
   "cell_type": "markdown",
   "metadata": {},
   "source": [
    "**A** The results show that as $\\epsilon$ decreases, the approximation error drops sharply, indicating that the tensor is highly compressible and well-approximated even with modest TT-ranks. Memory usage increases with smaller $\\epsilon$, reflecting larger TT-ranks, but eventually plateaus as further accuracy improvements have minimal impact on storage. This highlights the trade-off between accuracy and memory, with moderate $\\epsilon$ values offering a balance between low error and efficient storage.\n",
    "\n",
    "To balance memory efficiency and accuracy, the optimal rank is at the point where the MSE stabilizes and additional ranks do not improve the approximation further."
   ]
  },
  {
   "cell_type": "markdown",
   "metadata": {
    "id": "MyZ21DGJ46K-"
   },
   "source": [
    "## Sparce Matrix Factorization for Linear Systems (15 pts)"
   ]
  },
  {
   "cell_type": "markdown",
   "metadata": {
    "id": "qnZnUrGPFIu5"
   },
   "source": [
    "### Imports"
   ]
  },
  {
   "cell_type": "code",
   "execution_count": 1,
   "metadata": {
    "id": "YmbjdBXTRAi6"
   },
   "outputs": [],
   "source": [
    "import numpy as np\n",
    "import scipy.sparse as sp\n",
    "import timeit\n",
    "import scipy.sparse.linalg as spsplin\n",
    "import scipy.linalg as splin\n",
    "import matplotlib.pyplot as plt\n",
    "import time\n",
    "import networkx as nx\n",
    "from matplotlib.animation import FuncAnimation\n",
    "from scipy.sparse import diags, csr_matrix\n",
    "from scipy.sparse.linalg import spsolve\n",
    "from IPython.display import HTML\n",
    "from tqdm import tqdm\n",
    "%matplotlib inline"
   ]
  },
  {
   "cell_type": "code",
   "execution_count": 2,
   "metadata": {
    "id": "ZEHFeGtNFwyb"
   },
   "outputs": [],
   "source": [
    "from sksparse.cholmod import cholesky"
   ]
  },
  {
   "cell_type": "markdown",
   "metadata": {
    "id": "j3RHOxe95CGe"
   },
   "source": [
    "### Demonstration: Fill-in importance"
   ]
  },
  {
   "cell_type": "markdown",
   "metadata": {
    "id": "7RumQOcsy2or"
   },
   "source": [
    "- Strictly regular matrices have LU-decomposition.\n",
    "\n",
    "- An important **subclass** of strictly regular matrices is the class of **Hermitian positive definite matrices**\n",
    "\n",
    "\n",
    "**Definition.** A matrix $A$ is called **positive definite** </font> if for any $x: \\Vert x \\Vert \\ne 0$ we have\n",
    "\n",
    "$$\n",
    "(x, Ax) > 0.\n",
    "$$\n",
    "\n",
    "- **Claim:** A Hermitian positive definite matrix $A$ is strictly regular and has **Cholesky factorization** of the form\n",
    "\n",
    "$$A = LL^*,$$\n",
    "\n",
    "where $L$ is a lower triangular matrix."
   ]
  },
  {
   "cell_type": "markdown",
   "metadata": {
    "id": "t7BKknWe45an"
   },
   "source": [
    "Let us see how Cholesky is faster than LU in symmetric positive definite case. First demonstration is a random SPD matrix. The second one is the same matrix, but with its rows and columns permuted to reduce the fill-in."
   ]
  },
  {
   "cell_type": "code",
   "execution_count": 3,
   "metadata": {
    "id": "wd--ChQqiVeZ"
   },
   "outputs": [],
   "source": [
    "n = 3000\n",
    "ex = np.ones(n)\n",
    "A = sp.spdiags(np.vstack((3*ex,  7*ex, 3*ex)), [-1, 0, 1], n, n, 'csr')\n",
    "S = np.abs(sp.random(3000,3000, density=(1/(10*n))).tocsr())\n",
    "A = A+ S.transpose() + S"
   ]
  },
  {
   "cell_type": "code",
   "execution_count": 4,
   "metadata": {
    "colab": {
     "base_uri": "https://localhost:8080/",
     "height": 413
    },
    "id": "XNmH54Xz2SS8",
    "outputId": "deeda71e-9ad9-48aa-9dc7-1672b6136872"
   },
   "outputs": [
    {
     "name": "stderr",
     "output_type": "stream",
     "text": [
      "/var/folders/7k/4vb9j3_s13l8qv3m4vdw9m5w0000gn/T/ipykernel_22949/27398436.py:3: CholmodTypeConversionWarning: converting matrix of class csr_matrix to CSC format\n",
      "  factor = cholesky(A, ordering_method=\"natural\")\n"
     ]
    },
    {
     "data": {
      "image/png": "[encoded data removed]",
      "text/plain": [
       "<Figure size 1000x400 with 4 Axes>"
      ]
     },
     "metadata": {},
     "output_type": "display_data"
    },
    {
     "name": "stdout",
     "output_type": "stream",
     "text": [
      "==================================================\n",
      "Cholesky time taken:  0.012529850006103516\n",
      "LU time taken:  0.0408329963684082\n",
      "Nonzero elements in original matrix:  9598\n",
      "Nonzero elements in Cholesky L:  335682\n",
      "Nonzero elements in LU L:  299576\n"
     ]
    }
   ],
   "source": [
    "# Derive Cholesky Factorization\n",
    "at = time.time()\n",
    "factor = cholesky(A, ordering_method=\"natural\")\n",
    "bt = time.time()\n",
    "\n",
    "# Derive LU Factorization\n",
    "ct = time.time()\n",
    "lu = spsplin.splu(A.tocsc(), permc_spec=\"NATURAL\")\n",
    "dt = time.time()\n",
    "\n",
    "fig, axes = plt.subplots(1, 4, figsize=(10, 4))\n",
    "axes[0].spy(A)\n",
    "axes[0].set_title(\"Original Matrix\")\n",
    "axes[1].spy(factor.L())\n",
    "axes[1].set_title(\"Cholesky L matrix\")\n",
    "axes[2].spy(lu.L)\n",
    "axes[2].set_title(\"LU L matrix\")\n",
    "axes[3].spy(lu.U)\n",
    "axes[3].set_title(\"LU U matrix\")\n",
    "plt.tight_layout()\n",
    "plt.show()\n",
    "print('==================================================')\n",
    "print('Cholesky time taken: ', bt-at)\n",
    "print('LU time taken: ', dt-ct)\n",
    "print('Nonzero elements in original matrix: ', A.nnz)\n",
    "print('Nonzero elements in Cholesky L: ', factor.L().nnz)\n",
    "print('Nonzero elements in LU L: ', lu.L.nnz)"
   ]
  },
  {
   "cell_type": "code",
   "execution_count": 5,
   "metadata": {
    "colab": {
     "base_uri": "https://localhost:8080/",
     "height": 362
    },
    "id": "FervW0gj3hf-",
    "outputId": "d5325102-1969-468e-b17e-659ce5ef12bb"
   },
   "outputs": [
    {
     "name": "stderr",
     "output_type": "stream",
     "text": [
      "/var/folders/7k/4vb9j3_s13l8qv3m4vdw9m5w0000gn/T/ipykernel_22949/2419169893.py:3: CholmodTypeConversionWarning: converting matrix of class csr_matrix to CSC format\n",
      "  factor = cholesky(A)\n"
     ]
    },
    {
     "data": {
      "image/png": "[encoded data removed]",
      "text/plain": [
       "<Figure size 600x400 with 3 Axes>"
      ]
     },
     "metadata": {},
     "output_type": "display_data"
    },
    {
     "name": "stdout",
     "output_type": "stream",
     "text": [
      "==================================================\n",
      "Cholesky time taken:  0.0017201900482177734\n",
      "LU time taken:  0.004075050354003906\n",
      "Nonzero elements in original matrix:  9598\n",
      "Nonzero elements in Cholesky L:  18298\n",
      "Nonzero elements in LU L:  34792\n"
     ]
    }
   ],
   "source": [
    "# Derive Cholesky Factorization\n",
    "at = time.time()\n",
    "factor = cholesky(A)\n",
    "bt = time.time()\n",
    "\n",
    "# Derive LU Factorization\n",
    "ct = time.time()\n",
    "lu = spsplin.splu(A.tocsc())\n",
    "dt = time.time()\n",
    "\n",
    "fig, axes = plt.subplots(1, 3, figsize=(6, 4))\n",
    "axes[0].spy(factor.L())\n",
    "axes[0].set_title(\"Cholesky L matrix\")\n",
    "axes[1].spy(lu.L)\n",
    "axes[1].set_title(\"LU L matrix\")\n",
    "axes[2].spy(lu.U)\n",
    "axes[2].set_title(\"LU U matrix\")\n",
    "plt.tight_layout()\n",
    "plt.show()\n",
    "print('==================================================')\n",
    "print('Cholesky time taken: ', bt-at)\n",
    "print('LU time taken: ', dt-ct)\n",
    "print('Nonzero elements in original matrix: ', A.nnz)\n",
    "print('Nonzero elements in Cholesky L: ', factor.L().nnz)\n",
    "print('Nonzero elements in LU L: ', lu.L.nnz)"
   ]
  },
  {
   "cell_type": "markdown",
   "metadata": {
    "id": "NZmBkR6j6AwJ"
   },
   "source": [
    "### Nested dissection algorythm"
   ]
  },
  {
   "cell_type": "markdown",
   "metadata": {
    "id": "4DPCLwsy6LnG"
   },
   "source": [
    "As LU and Cholesky algorythms derive factors in a pre-defined order, we can permute matrix in a way to make this algorythms produce minimal fill-in. One of approaches that works with SPD matrices is reducing to **block arrowhead structure**.\n",
    "\n",
    "$$\n",
    "PAP^\\top = \\begin{bmatrix} A_{\\alpha\\alpha} & 0 & A_{\\alpha\\sigma} \\\\ 0 & A_{\\beta\\beta} & A_{\\beta\\sigma} \\\\ A_{\\sigma\\alpha} & A_{\\sigma\\beta} & A_{\\sigma\\sigma}\\end{bmatrix}\n",
    "$$\n",
    "\n",
    "After decomposition, factors will have 0-blocks intact."
   ]
  },
  {
   "cell_type": "markdown",
   "metadata": {
    "id": "AC8eKaoC7m5i"
   },
   "source": [
    "Main idea is that symmetric matrix $A$ can be seen as an adjacency matrix for some graph $G$. Then if we split $G$ into subgraphs $L, R, S$ in a way that there are no edges between nodes from $L$ and $R$, we can construct blocks, where node index is equal to matrix row/column index, and thus blocks $A_{LR}$ and $A_{RL}$ will be $0$.\n",
    "\n",
    "The challenge in this approach is locating an optimal subset $S$ called **Separator** of nodes of $G$. **Separator** is a subgraph such that its removal splits the rest of the graph into two or more connected components.\n",
    "\n",
    "Here we will choose separator using Spectral Partitioning approach (you can read about it in Lecture 11. Here is [a link](https://nla.skoltech.ru/lectures/lecture-11/lecture-11.html) to previous year's lecture if you want to see it sooner)."
   ]
  },
  {
   "cell_type": "markdown",
   "metadata": {},
   "source": [
    "General algorythm is such:\n",
    "1) Considering graph G based on given matrix A as an adjacency matrix for this graph, get the [Laplacian](https://en.wikipedia.org/wiki/Laplacian_matrix) of that graph. \n",
    "\n",
    "2) Derive the eigenvector $w_2$ of graph's Laplacian that is corresponding to the second smallest eigenvalue.\n",
    "\n",
    "3) Signs of components of $w_2$ define partitioning. Positive indexes define one class and negative - second class. These two classes are two connected components that will be left if we remove the separator class.\n",
    "\n",
    "4) Derive indexes of Separator nodes - now we get indexes of all three classes $A, B, S$.\n",
    "\n",
    "5) Permute matrix so rows and columns are ordered as $A, B, S$.\n",
    "\n",
    "6) Iterate the same algorythm for blocks $A$ and $B$."
   ]
  },
  {
   "cell_type": "markdown",
   "metadata": {
    "id": "lJsWyZg89snA"
   },
   "source": [
    "### Task 1 (5 pts): implement matrix separation"
   ]
  },
  {
   "cell_type": "markdown",
   "metadata": {
    "id": "0PE27B8dE-yt"
   },
   "source": [
    "Implement given algorythm to permute matrix into lower-arrowhead block form (No recursion yet, we need only one split)."
   ]
  },
  {
   "cell_type": "code",
   "execution_count": 6,
   "metadata": {},
   "outputs": [],
   "source": [
    "matrix = np.array([[4, 0, 0, 12],\n",
    "                   [15, 0, 26, 34],\n",
    "                   [0, -7, 15, 0]])"
   ]
  },
  {
   "cell_type": "markdown",
   "metadata": {},
   "source": [
    "Below is my own implementation:"
   ]
  },
  {
   "cell_type": "code",
   "execution_count": null,
   "metadata": {},
   "outputs": [],
   "source": [
    "def order_block_dissection(A):\n",
    "    # Laplacian matrix\n",
    "    degrees = np.array(A.sum(axis=1)).flatten()\n",
    "    L = sp.diags(degrees, format='csr') - A\n",
    "\n",
    "    # Second smallest eigenvector\n",
    "    eigenvalues, eigenvectors = spsplin.eigsh(L, k=2, which='SM')\n",
    "    fiedler_vector = eigenvectors[:, 1]\n",
    "\n",
    "    # Partition nodes\n",
    "    epsilon = 0\n",
    "    pos_indices = np.where(fiedler_vector > epsilon)[0]\n",
    "    neg_indices = np.where(fiedler_vector < -epsilon)[0]\n",
    "    zero_indices = np.where(np.abs(fiedler_vector) <= epsilon)[0]\n",
    "    A_nodes = np.concatenate((pos_indices, zero_indices))\n",
    "    B_nodes = neg_indices\n",
    "\n",
    "    # Identify separator\n",
    "    partition_labels = np.zeros(A.shape[0], dtype=int)\n",
    "    partition_labels[A_nodes] = 1\n",
    "    partition_labels[B_nodes] = 2\n",
    "\n",
    "    # Find all edges in the upper triangle to avoid duplicates\n",
    "    row, col = A.nonzero()\n",
    "    upper_mask = row < col\n",
    "    row = row[upper_mask]\n",
    "    col = col[upper_mask]\n",
    "\n",
    "    # Identify edges that cross partitions (A to B)\n",
    "    cross_partition = (partition_labels[row] == 1) & (partition_labels[col] == 2) | \\\n",
    "                      (partition_labels[row] == 2) & (partition_labels[col] == 1)\n",
    "    S_nodes = np.unique(np.concatenate((row[cross_partition], col[cross_partition])))\n",
    "\n",
    "    # Separator nodes\n",
    "    S_nodes = S_nodes.tolist()\n",
    "\n",
    "    # Remove separator nodes from A_nodes and B_nodes\n",
    "    A_nodes = np.setdiff1d(A_nodes, S_nodes)\n",
    "    B_nodes = np.setdiff1d(B_nodes, S_nodes)\n",
    "\n",
    "    return A_nodes, B_nodes, S_nodes\n",
    "\n",
    "\n",
    "def block_dissection(A, order):\n",
    "    # return A_permuted\n",
    "    return A[order, :][:, order]\n",
    "\n"
   ]
  },
  {
   "cell_type": "code",
   "execution_count": 19,
   "metadata": {
    "id": "Xk9T8dS0-XVq"
   },
   "outputs": [],
   "source": [
    "n = 3000\n",
    "k = 3\n",
    "ex = np.ones(n)\n",
    "A = sp.spdiags(np.vstack((2*ex,  8*ex, 2*ex)), [-1, 0, 1], n, n, 'csr')\n",
    "S = np.abs(sp.random(n,n, density=(1/(k*n))).tocsr())\n",
    "A = A + S.transpose() + S"
   ]
  },
  {
   "cell_type": "code",
   "execution_count": 20,
   "metadata": {
    "colab": {
     "base_uri": "https://localhost:8080/"
    },
    "id": "5vZQCWVz_AA-",
    "outputId": "8b8e157f-6631-43ea-edf7-24868d5b9d2c"
   },
   "outputs": [],
   "source": [
    "L_node, R_node, S_node = order_block_dissection(A)\n",
    "B = block_dissection(A, np.concatenate((L_node, R_node, S_node)).tolist())"
   ]
  },
  {
   "cell_type": "code",
   "execution_count": 21,
   "metadata": {
    "colab": {
     "base_uri": "https://localhost:8080/",
     "height": 266
    },
    "id": "5-HbcMum50Gq",
    "outputId": "d4a2617b-1b8e-44c8-9bcb-331e5c72568d"
   },
   "outputs": [
    {
     "name": "stderr",
     "output_type": "stream",
     "text": [
      "/var/folders/7k/4vb9j3_s13l8qv3m4vdw9m5w0000gn/T/ipykernel_22949/2852956122.py:4: CholmodTypeConversionWarning: converting matrix of class csr_matrix to CSC format\n",
      "  factor = cholesky(B, ordering_method=\"natural\")\n"
     ]
    },
    {
     "data": {
      "image/png": "[encoded data removed]",
      "text/plain": [
       "<Figure size 600x400 with 3 Axes>"
      ]
     },
     "metadata": {},
     "output_type": "display_data"
    },
    {
     "data": {
      "text/plain": [
       "<Figure size 640x480 with 0 Axes>"
      ]
     },
     "metadata": {},
     "output_type": "display_data"
    },
    {
     "name": "stdout",
     "output_type": "stream",
     "text": [
      "==================================================\n",
      "Cholesky time taken:  0.013649225234985352\n",
      "Nonzero elements in original matrix:  10996\n",
      "Nonzero elements in Cholesky L:  654411\n"
     ]
    }
   ],
   "source": [
    "fig, axes = plt.subplots(1, 3, figsize=(6, 4))\n",
    "\n",
    "at = time.time()\n",
    "factor = cholesky(B, ordering_method=\"natural\")\n",
    "bt = time.time()\n",
    "\n",
    "axes[0].spy(A)\n",
    "axes[0].set_title(\"Original Matrix\")\n",
    "axes[1].spy(B)\n",
    "axes[1].set_title(\"Permuted Matrix\")\n",
    "axes[2].spy(factor.L())\n",
    "axes[2].set_title(\"Cholesky L matrix\")\n",
    "plt.tight_layout()\n",
    "plt.show()\n",
    "\n",
    "plt.tight_layout()\n",
    "plt.show()\n",
    "\n",
    "print('==================================================')\n",
    "print('Cholesky time taken: ', bt-at)\n",
    "print('Nonzero elements in original matrix: ', A.nnz)\n",
    "print('Nonzero elements in Cholesky L: ', factor.L().nnz)"
   ]
  },
  {
   "cell_type": "markdown",
   "metadata": {},
   "source": [
    "Below is solution generated with ChatGPT. That a pity, but it works better and faster :( "
   ]
  },
  {
   "cell_type": "code",
   "execution_count": 12,
   "metadata": {},
   "outputs": [],
   "source": [
    "def compute_laplacian(A):\n",
    "    \"\"\"\n",
    "    Compute the Laplacian matrix of a graph given its adjacency matrix A.\n",
    "    \"\"\"\n",
    "    degrees = np.array(A.sum(axis=1)).flatten()\n",
    "    D = sp.diags(degrees, format='csr')\n",
    "    L = D - A\n",
    "    return L\n",
    "\n",
    "def compute_fiedler_vector(L):\n",
    "    \"\"\"\n",
    "    Compute the Fiedler vector (eigenvector corresponding to the second smallest eigenvalue).\n",
    "    \"\"\"\n",
    "    # Since L is symmetric and positive semi-definite, we can use eigsh\n",
    "    eigenvalues, eigenvectors = spsplin.eigsh(L, k=2, which='SM')\n",
    "    idx = np.argsort(eigenvalues)\n",
    "    fiedler_vector = eigenvectors[:, idx[1]]  # Second smallest eigenvalue\n",
    "    return fiedler_vector\n",
    "\n",
    "def partition_nodes(fiedler_vector, epsilon=1e-5):\n",
    "    \"\"\"\n",
    "    Partition nodes into two classes based on the signs of the Fiedler vector components.\n",
    "    \"\"\"\n",
    "    A_nodes = []\n",
    "    B_nodes = []\n",
    "    for i, val in enumerate(fiedler_vector):\n",
    "        if val > epsilon:\n",
    "            A_nodes.append(i)\n",
    "        elif val < -epsilon:\n",
    "            B_nodes.append(i)\n",
    "        else:\n",
    "            # Assign nodes with values close to zero arbitrarily\n",
    "            A_nodes.append(i)\n",
    "    return A_nodes, B_nodes\n",
    "\n",
    "def find_separator_nodes(A, A_nodes, B_nodes):\n",
    "    \"\"\"\n",
    "    Identify separator nodes that connect nodes from A_nodes to B_nodes.\n",
    "    \"\"\"\n",
    "    S_nodes = set()\n",
    "    A_set = set(A_nodes)\n",
    "    B_set = set(B_nodes)\n",
    "    # Check for connections between A_nodes and B_nodes\n",
    "    for i in A_nodes:\n",
    "        neighbors = A.indices[A.indptr[i]:A.indptr[i+1]]\n",
    "        if any(j in B_set for j in neighbors):\n",
    "            S_nodes.add(i)\n",
    "    for i in B_nodes:\n",
    "        neighbors = A.indices[A.indptr[i]:A.indptr[i+1]]\n",
    "        if any(j in A_set for j in neighbors):\n",
    "            S_nodes.add(i)\n",
    "    # Remove separator nodes from A_nodes and B_nodes\n",
    "    A_nodes = [i for i in A_nodes if i not in S_nodes]\n",
    "    B_nodes = [i for i in B_nodes if i not in S_nodes]\n",
    "    S_nodes = list(S_nodes)\n",
    "    return A_nodes, B_nodes, S_nodes\n",
    "\n",
    "def create_permutation_order(A_nodes, B_nodes, S_nodes):\n",
    "    \"\"\"\n",
    "    Create a permutation order for the matrix based on the node partitions.\n",
    "    \"\"\"\n",
    "    permutation = A_nodes + B_nodes + S_nodes\n",
    "    return permutation\n",
    "\n",
    "def permute_matrix(A, permutation):\n",
    "    \"\"\"\n",
    "    Permute the matrix A according to the given permutation of indices.\n",
    "    \"\"\"\n",
    "    # Permute the rows and columns of the sparse matrix\n",
    "    A_permuted = A[permutation, :][:, permutation]\n",
    "    return A_permuted\n",
    "\n",
    "def permute_to_arrowhead(A):\n",
    "    \"\"\"\n",
    "    Main function to permute the matrix A into lower-arrowhead block form.\n",
    "    \"\"\"\n",
    "    # Step 1: Compute the Laplacian of the graph\n",
    "    L = compute_laplacian(A)\n",
    "    # Step 2: Compute the Fiedler vector\n",
    "    w2 = compute_fiedler_vector(L)\n",
    "    # Step 3: Partition nodes based on the Fiedler vector\n",
    "    A_nodes, B_nodes = partition_nodes(w2)\n",
    "    # Step 4: Identify separator nodes\n",
    "    A_nodes, B_nodes, S_nodes = find_separator_nodes(A, A_nodes, B_nodes)\n",
    "    # Step 5: Create permutation order\n",
    "    permutation = create_permutation_order(A_nodes, B_nodes, S_nodes)\n",
    "    # Step 6: Permute the matrix\n",
    "    A_permuted = permute_matrix(A, permutation)\n",
    "    return A_permuted, permutation\n"
   ]
  },
  {
   "cell_type": "code",
   "execution_count": 13,
   "metadata": {},
   "outputs": [],
   "source": [
    "C, _ = permute_to_arrowhead(A)"
   ]
  },
  {
   "cell_type": "code",
   "execution_count": 14,
   "metadata": {},
   "outputs": [
    {
     "name": "stderr",
     "output_type": "stream",
     "text": [
      "/var/folders/7k/4vb9j3_s13l8qv3m4vdw9m5w0000gn/T/ipykernel_22949/2900424114.py:4: CholmodTypeConversionWarning: converting matrix of class csr_matrix to CSC format\n",
      "  factor = cholesky(C, ordering_method=\"natural\")\n"
     ]
    },
    {
     "data": {
      "image/png": "[encoded data removed]",
      "text/plain": [
       "<Figure size 600x400 with 3 Axes>"
      ]
     },
     "metadata": {},
     "output_type": "display_data"
    },
    {
     "data": {
      "text/plain": [
       "<Figure size 640x480 with 0 Axes>"
      ]
     },
     "metadata": {},
     "output_type": "display_data"
    },
    {
     "name": "stdout",
     "output_type": "stream",
     "text": [
      "==================================================\n",
      "Cholesky time taken:  0.013360261917114258\n",
      "Nonzero elements in original matrix:  10998\n",
      "Nonzero elements in Cholesky L:  581366\n"
     ]
    }
   ],
   "source": [
    "fig, axes = plt.subplots(1, 3, figsize=(6, 4))\n",
    "\n",
    "at = time.time()\n",
    "factor = cholesky(C, ordering_method=\"natural\")\n",
    "bt = time.time()\n",
    "\n",
    "axes[0].spy(A)\n",
    "axes[0].set_title(\"Original Matrix\")\n",
    "axes[1].spy(C)\n",
    "axes[1].set_title(\"Permuted Matrix\")\n",
    "axes[2].spy(factor.L())\n",
    "axes[2].set_title(\"Cholesky L matrix\")\n",
    "plt.tight_layout()\n",
    "plt.show()\n",
    "\n",
    "\n",
    "\n",
    "plt.tight_layout()\n",
    "plt.show()\n",
    "\n",
    "print('==================================================')\n",
    "print('Cholesky time taken: ', bt-at)\n",
    "print('Nonzero elements in original matrix: ', A.nnz)\n",
    "print('Nonzero elements in Cholesky L: ', factor.L().nnz)"
   ]
  },
  {
   "cell_type": "markdown",
   "metadata": {
    "id": "bBgqhBXq_Vvk"
   },
   "source": [
    "### Task 2 (5 pts): implement Nested Dissection\n",
    "\n"
   ]
  },
  {
   "cell_type": "markdown",
   "metadata": {
    "id": "S9WgvsrbFBt-"
   },
   "source": [
    "Now implement algorithm that will recursively permute each of $A_{iLL}$ and $A_{iRR}$ blocks to their own lower-arrowhead bock form.\n",
    "\n",
    "Reminder: you are permuting the whole matrix, not each block separately.\n",
    "\n",
    "Reminder: it is a good idea to move all $A_{iSS}$ blocks together on the bottom."
   ]
  },
  {
   "cell_type": "code",
   "execution_count": 22,
   "metadata": {},
   "outputs": [],
   "source": [
    "# A - PSD matrix\n",
    "# k - maximal block size\n",
    "\n",
    "def nested_dissection(A, k=10):\n",
    "    \n",
    "    def recursive_nd(A, nodes, k):\n",
    "       \n",
    "        if len(nodes) <= k:\n",
    "            return nodes.copy()\n",
    "        \n",
    "        # Extract the submatrix corresponding to current nodes\n",
    "        subA = A[nodes, :][:, nodes]\n",
    "        \n",
    "        # Partition the submatrix into A, B, S using permute_to_arrowhead\n",
    "        A_nodes, B_nodes, S_nodes = order_block_dissection(subA)\n",
    "        \n",
    "        # Map back to original node indices\n",
    "        A_nodes_original = [nodes[i] for i in A_nodes]\n",
    "        B_nodes_original = [nodes[i] for i in B_nodes]\n",
    "        S_nodes_original = [nodes[i] for i in S_nodes]\n",
    "        \n",
    "        # Recursively apply Nested Dissection on A and B\n",
    "        perm_A = recursive_nd(A, A_nodes_original, k)\n",
    "        perm_B = recursive_nd(A, B_nodes_original, k)\n",
    "        \n",
    "        # Combine the permutation orders: A, B, S\n",
    "        return perm_A + perm_B + S_nodes_original\n",
    "    \n",
    "    # Start recursion with all nodes\n",
    "    all_nodes = list(range(A.shape[0]))\n",
    "    permutation = recursive_nd(A, all_nodes, k)\n",
    "    \n",
    "    return permutation"
   ]
  },
  {
   "cell_type": "code",
   "execution_count": 23,
   "metadata": {
    "id": "PQ9X38uOAxeh"
   },
   "outputs": [],
   "source": [
    "n = 3000\n",
    "k = 5\n",
    "ex = np.ones(n)\n",
    "A = sp.spdiags(np.vstack((1*ex,  3*ex, 1*ex)), [-1, 0, 1], n, n, 'csr')\n",
    "S = np.abs(sp.random(n,n, density=(1/(k*n))).tocsr())\n",
    "A = A+ S.transpose() + S"
   ]
  },
  {
   "cell_type": "code",
   "execution_count": 35,
   "metadata": {
    "colab": {
     "base_uri": "https://localhost:8080/"
    },
    "id": "GCVPzU7BAzx-",
    "outputId": "30dc718d-21bc-4558-cf83-685873784b48"
   },
   "outputs": [],
   "source": [
    "# order = lr + s\n",
    "permutation_order = nested_dissection(A, 20)\n",
    "B = block_dissection(A, permutation_order)"
   ]
  },
  {
   "cell_type": "code",
   "execution_count": 39,
   "metadata": {
    "colab": {
     "base_uri": "https://localhost:8080/",
     "height": 529
    },
    "id": "9NUhb1_TAz0b",
    "outputId": "635af173-77c6-405b-97bd-9e9ef36aee20"
   },
   "outputs": [
    {
     "name": "stderr",
     "output_type": "stream",
     "text": [
      "/var/folders/7k/4vb9j3_s13l8qv3m4vdw9m5w0000gn/T/ipykernel_22949/673294425.py:6: CholmodTypeConversionWarning: converting matrix of class csr_matrix to CSC format\n",
      "  factorA = cholesky(A, ordering_method=\"natural\")\n",
      "/var/folders/7k/4vb9j3_s13l8qv3m4vdw9m5w0000gn/T/ipykernel_22949/673294425.py:9: CholmodTypeConversionWarning: converting matrix of class csr_matrix to CSC format\n",
      "  factorB = cholesky(B, ordering_method=\"natural\")\n",
      "/var/folders/7k/4vb9j3_s13l8qv3m4vdw9m5w0000gn/T/ipykernel_22949/673294425.py:12: CholmodTypeConversionWarning: converting matrix of class csr_matrix to CSC format\n",
      "  factorC = cholesky(A)\n"
     ]
    },
    {
     "data": {
      "image/png": "[encoded data removed]",
      "text/plain": [
       "<Figure size 1900x1000 with 6 Axes>"
      ]
     },
     "metadata": {},
     "output_type": "display_data"
    },
    {
     "name": "stdout",
     "output_type": "stream",
     "text": [
      "Nonzero elements in original matrix:     10198\n",
      "Nonzero elements in Cholesky L:          600263\n",
      "Nonzero elements in permuted Cholesky L: 155900\n",
      "78082\n"
     ]
    }
   ],
   "source": [
    "fig, axes = plt.subplots(3, 2, figsize=(19, 10))\n",
    "axes[0,0].spy(A)\n",
    "axes[0,0].set_title(\"Original Matrix\")\n",
    "axes[0,1].spy(B)\n",
    "axes[0,1].set_title(\"Permuted Matrix\")\n",
    "factorA = cholesky(A, ordering_method=\"natural\")\n",
    "axes[1,0].spy(factorA.L())\n",
    "axes[1,0].set_title(\"Cholesky Original\")\n",
    "factorB = cholesky(B, ordering_method=\"natural\")\n",
    "axes[1,1].spy(factorB.L())\n",
    "axes[1,1].set_title(\"Cholesky Permuted\")\n",
    "factorC = cholesky(A)\n",
    "axes[2,0].spy(factorC.L())\n",
    "axes[2,0].set_title(\"L choletsky auto\")\n",
    "arrow = factorC.L() @ factorC.L().T\n",
    "axes[2,1].spy(arrow)\n",
    "axes[2,1].set_title(\"Arrow choletsky auto\")\n",
    "plt.tight_layout()\n",
    "plt.show()\n",
    "\n",
    "print('Nonzero elements in original matrix:    ', A.nnz)\n",
    "print('Nonzero elements in Cholesky L:         ', factorA.L().nnz)\n",
    "print('Nonzero elements in permuted Cholesky L:', factorB.L().nnz)\n",
    "print(factorC.L().nnz)"
   ]
  },
  {
   "cell_type": "markdown",
   "metadata": {
    "id": "cTvrU5WmEnr1"
   },
   "source": [
    "### Demonstration: Animation of heat distribution in a wall"
   ]
  },
  {
   "cell_type": "markdown",
   "metadata": {
    "id": "9Y0WxNTXFtQS"
   },
   "source": [
    "Consider simulating heat distribution in a large mechanical component (e.g., a car engine block or a building wall). The thermal conduction equation is modeled using the **Heat Equation**, a PDE:\n",
    "\n",
    "$$\n",
    "\\frac{\\partial T}{\\partial t} = \\nabla \\cdot (k \\nabla T) + Q,\n",
    "$$\n",
    "where:\n",
    "- $ T $: temperature,\n",
    "- $ k $: thermal conductivity,\n",
    "- $ Q $: heat source.\n",
    "\n",
    "Using [Finite Element Method](https://clck.ru/3EvWw3) we represent continuous solid object as a set of small separate objects. Each of them transfers heat only to neighbouring pieces. Thus, if we represent temperature of all $n$ pieces in a vector $T$ we can construct $n \\times n$ adjacency matrix $A$, in which each non-zero element $a_{i,j}$ represents heat conductivity between elements $i$ and $j$, and the initial equation [can be represented](https://skim.math.msstate.edu/LectureNotes/NumerPDEs_Lecture.pdf) as:\n",
    "$$\n",
    "AT_{t+1}=T_t\n",
    "$$\n",
    "\n",
    "To make calculations more accurate, we need to represent object with larger number $n$ of small pieces of size $1/k$. However, size of $A$ is $\\mathcal{O}(k^4)$ for a 2D object and $\\mathcal{O}(k^9)$ for 3D object, which may be way too large.\n",
    "\n",
    "However, $A$ has an important feature - it is sparse, positive and symmetric. This will allow us to use sparse methods and fast Cholesky factorization for quick solution. Also, computationally-expensive computation of matrix permutation can be done only once, as adjacency matrix does not change.\n",
    "\n"
   ]
  },
  {
   "cell_type": "markdown",
   "metadata": {
    "id": "yXn4bCSJKWI5"
   },
   "source": [
    "![example.png](data:image/png;base64,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)"
   ]
  },
  {
   "cell_type": "code",
   "execution_count": 40,
   "metadata": {
    "id": "AtQBWen31ijy"
   },
   "outputs": [],
   "source": [
    "def adjacency_conductivity_matrix(Nx, Ny, alpha):\n",
    "    N = Nx * Ny  # Total number of nodes\n",
    "    A = sp.lil_matrix((N, N))  # Initialize sparse adjacency matrix\n",
    "\n",
    "    for i in range(Nx):\n",
    "        for j in range(Ny):\n",
    "            node = i * Ny + j\n",
    "            if i > 0:  # Above\n",
    "                neighbor = (i - 1) * Ny + j\n",
    "                A[node, neighbor] = 1\n",
    "            if i < Nx - 1:  # Below\n",
    "                neighbor = (i + 1) * Ny + j\n",
    "                A[node, neighbor] = 1\n",
    "            if j > 0:  # Left\n",
    "                neighbor = i * Ny + (j - 1)\n",
    "                A[node, neighbor] = 1\n",
    "            if j < Ny - 1:  # Right\n",
    "                neighbor = i * Ny + (j + 1)\n",
    "                A[node, neighbor] = 1\n",
    "\n",
    "    I = sp.eye(Nx*Ny, format=\"csr\")\n",
    "    return (1+4*alpha)*I - alpha*A"
   ]
  },
  {
   "cell_type": "code",
   "execution_count": 44,
   "metadata": {
    "id": "HqOHPIZIsGv2"
   },
   "outputs": [],
   "source": [
    "def predict_heat_distribution_homemade(A, T, Nx, Ny, n_frames):\n",
    "  order = nested_dissection(A, 500)\n",
    "  B = A[order, :][:, order]\n",
    "\n",
    "  cholesky_factorization = cholesky(B, ordering_method='natural')\n",
    "\n",
    "  frames = [T.copy().reshape((Nx, Ny))]\n",
    "\n",
    "  for _ in tqdm(range(n_frames)):\n",
    "    # Solve sparse linear system for next time step\n",
    "    T = cholesky_factorization.solve_A(T[order])[np.argsort(order)]\n",
    "    frames.append(T.reshape((Nx, Ny)))\n",
    "  return frames"
   ]
  },
  {
   "cell_type": "code",
   "execution_count": 42,
   "metadata": {
    "colab": {
     "base_uri": "https://localhost:8080/"
    },
    "id": "TDpspDXaMy7A",
    "outputId": "26c6f968-b101-4daf-d5d6-d48d20ea21f0"
   },
   "outputs": [
    {
     "data": {
      "text/plain": [
       "array([[ 1.4, -0.1,  0. , -0.1,  0. ,  0. ,  0. ,  0. ,  0. ],\n",
       "       [-0.1,  1.4, -0.1,  0. , -0.1,  0. ,  0. ,  0. ,  0. ],\n",
       "       [ 0. , -0.1,  1.4,  0. ,  0. , -0.1,  0. ,  0. ,  0. ],\n",
       "       [-0.1,  0. ,  0. ,  1.4, -0.1,  0. , -0.1,  0. ,  0. ],\n",
       "       [ 0. , -0.1,  0. , -0.1,  1.4, -0.1,  0. , -0.1,  0. ],\n",
       "       [ 0. ,  0. , -0.1,  0. , -0.1,  1.4,  0. ,  0. , -0.1],\n",
       "       [ 0. ,  0. ,  0. , -0.1,  0. ,  0. ,  1.4, -0.1,  0. ],\n",
       "       [ 0. ,  0. ,  0. ,  0. , -0.1,  0. , -0.1,  1.4, -0.1],\n",
       "       [ 0. ,  0. ,  0. ,  0. ,  0. , -0.1,  0. , -0.1,  1.4]])"
      ]
     },
     "execution_count": 42,
     "metadata": {},
     "output_type": "execute_result"
    }
   ],
   "source": [
    "Nx, Ny = 3, 3                                    # Number of grid points in x and y\n",
    "alpha = 0.1\n",
    "T = np.array([25, 50, 150, 0, 0, 50, 0, 0, 25])  # Initial temperature distribution\n",
    "A = adjacency_conductivity_matrix(Nx, Ny, alpha)\n",
    "A.toarray()"
   ]
  },
  {
   "cell_type": "code",
   "execution_count": 45,
   "metadata": {
    "colab": {
     "base_uri": "https://localhost:8080/"
    },
    "id": "oTA8N0DDWORR",
    "outputId": "cc49b8d8-c1c7-48d1-c548-69cce7ce6ac2"
   },
   "outputs": [
    {
     "name": "stderr",
     "output_type": "stream",
     "text": [
      "/var/folders/7k/4vb9j3_s13l8qv3m4vdw9m5w0000gn/T/ipykernel_22949/963583958.py:5: CholmodTypeConversionWarning: converting matrix of class csr_matrix to CSC format\n",
      "  cholesky_factorization = cholesky(B, ordering_method='natural')\n",
      "100%|██████████| 10/10 [00:00<00:00, 7157.52it/s]\n"
     ]
    }
   ],
   "source": [
    "n_frames = 10\n",
    "frames = predict_heat_distribution_homemade(A, T, Nx, Ny, n_frames)"
   ]
  },
  {
   "cell_type": "code",
   "execution_count": 46,
   "metadata": {
    "colab": {
     "base_uri": "https://localhost:8080/",
     "height": 501
    },
    "id": "GaAJnM8PO0nw",
    "outputId": "1a6c96f5-a8fa-48d5-e818-b477e0603cfa"
   },
   "outputs": [
    {
     "data": {
      "text/html": [
       "<video width=\"640\" height=\"480\" controls autoplay loop>\n",
       "  <source type=\"video/mp4\" src=\"data:video/mp4;base64,AAAAIGZ0eXBNNFYgAAACAE00ViBpc29taXNvMmF2YzEAAAAIZnJlZQAAQ89tZGF0AAACrgYF//+q\n",
       "3EXpvebZSLeWLNgg2SPu73gyNjQgLSBjb3JlIDE2NCByMzA5NSBiYWVlNDAwIC0gSC4yNjQvTVBF\n",
       "Ry00IEFWQyBjb2RlYyAtIENvcHlsZWZ0IDIwMDMtMjAyMiAtIGh0dHA6Ly93d3cudmlkZW9sYW4u\n",
       "b3JnL3gyNjQuaHRtbCAtIG9wdGlvbnM6IGNhYmFjPTEgcmVmPTMgZGVibG9jaz0xOjA6MCBhbmFs\n",
       "eXNlPTB4MzoweDExMyBtZT1oZXggc3VibWU9NyBwc3k9MSBwc3lfcmQ9MS4wMDowLjAwIG1peGVk\n",
       "X3JlZj0xIG1lX3JhbmdlPTE2IGNocm9tYV9tZT0xIHRyZWxsaXM9MSA4eDhkY3Q9MSBjcW09MCBk\n",
       "ZWFkem9uZT0yMSwxMSBmYXN0X3Bza2lwPTEgY2hyb21hX3FwX29mZnNldD0tMiB0aHJlYWRzPTE1\n",
       "IGxvb2thaGVhZF90aHJlYWRzPTIgc2xpY2VkX3RocmVhZHM9MCBucj0wIGRlY2ltYXRlPTEgaW50\n",
       "ZXJsYWNlZD0wIGJsdXJheV9jb21wYXQ9MCBjb25zdHJhaW5lZF9pbnRyYT0wIGJmcmFtZXM9MyBi\n",
       "X3B5cmFtaWQ9MiBiX2FkYXB0PTEgYl9iaWFzPTAgZGlyZWN0PTEgd2VpZ2h0Yj0xIG9wZW5fZ29w\n",
       "PTAgd2VpZ2h0cD0yIGtleWludD0yNTAga2V5aW50X21pbj0yIHNjZW5lY3V0PTQwIGludHJhX3Jl\n",
       "ZnJlc2g9MCByY19sb29rYWhlYWQ9NDAgcmM9Y3JmIG1idHJlZT0xIGNyZj0yMy4wIHFjb21wPTAu\n",
       "NjAgcXBtaW49MCBxcG1heD02OSBxcHN0ZXA9NCBpcF9yYXRpbz0xLjQwIGFxPTE6MS4wMACAAAAd\n",
       "wWWIhAAV//73ye/AputbW7W/k89I/Cy3PsIqP25bE7TqAAADAAADAAADAHrwWCEQ/MiirrwAAAMD\n",
       "KGKZ6poJF/8wBGAfR/iBeObIHHoAWODVH+Zq/0qThCl8H+oqf/6p2O2JIbEUgqHIGQNQVuWM/5m6\n",
       "sosndG7FMF3s1jhL95Sf4xGKBW2esk6//+gPWmrRnRFsm44GRkhffH+P2dwjTN1rwrjzZVgJ0qIy\n",
       "RGuMPhGQVlZdsw5ol/5yIz9gH7zC2/rVH3A4KqyekBnu/NPe/2evH+L7cnfDtCYHGInPMut+ptzt\n",
       "ZAp63jLIKdkEF4tCeGmxoyafNmtE9zOgHBJ3xYAQE0X7Qiy+4KuAJt2VE7yjTqEdGv66SxXg0bQa\n",
       "5g0whd6zUkzoRcWH4nqNAgxoQRhvpbPWGNNf+6O7CFMMaBVH2vYNMpgpbASunAzBezxwZMMKrg6C\n",
       "NTPqj0Uec8G0fZ0qeIlNR8jTLNfau4SoqLqU933JDE0/9y32cM1+tHJ3ykyapomI0cHLXBXxDZB/\n",
       "MwE73fwb75zafn0i+wIF9THthKGrxzLlbBtGBXZGkIWVArIGRUOYYjwwl4QrN1PefEYjjUCzISIa\n",
       "C91m3i2146PfTojqCdtQGwTwhfgiHrfSWy0yl0v2VEy2GizREouKmdOeAaYZuhwiYtX+I62gZvI1\n",
       "weI+Lka452rOOkqfbSe63HiFXEopphd/+/KIJk1QfwJMMbmA0dbmGsc6VUtKbOcb2HXJ9XKbfrv1\n",
       "Z0ApfBnaUHjT2433P0KWGEPMfryS3xSFJunZumJQT8+nWCJGDqJLdSNP9u3c4MEUPYblWeRv9hNQ\n",
       "bR9Jda5L+FLlDTT1R33Dl6rHbQOqgGE+jTf/0fAe+dZAj3fdT7RyWiw1uyGXlJJB3JfZbF6nYr89\n",
       "HO+VVoFf8U3yrihTzn88ASR3x9VOKVXhZrKNWUsaQZOxv8rl7ohhnAVfP5YZ+UpsoRb2QRKa/ysI\n",
       "P8n04v+IG93M2VhuLxeFaKqyf9610fdAi5aAG6b16siE7qXgyq+Mi87kGKCe7MlzYbC8auG50po+\n",
       "dlHDJXd0m+KUsO8mIsNDMuXH+e1NwJsRQ9ZD9JsKpBdkjanLV3LWJxu0uDOFZ7JvwOX4fAhLO13M\n",
       "c3CIsLKNA8NMhrXAQzJSyiI40S9O/sovuU34F7SlvBOnLDGaPk137G3/mlqzzxL2iy6d0acZEDqA\n",
       "oG/E3ciKKXKRu0SxFz76KMg7n72BHHHUoD91EzdyrdD/8UiPfXtSwG/AVo5CMoh2hJYg8qmJUFMs\n",
       "5tDdrvHtVdVqvojUuLSP7e9SlyY2e0aCZVOuVwusfxRWOxqXE8Gr7ukDCPEPgTyQzzYxIRpK/hBb\n",
       "/e7noGs634J/26bwhtVzOVShPBzqZFTnx/c18yxFm82KigDtpATDSfeiodHzhQ5Noae+3vVa2gkp\n",
       "wShnJexEVvYWQIu5SvJ//phUS2S0JtIRvQOJAiObo1dxMMFQ5Q6ho4Jf42RP8MuhnsY5ZAqwSRUx\n",
       "LFTRXWo5V+Gto8HU3wHHNuWGic4yjiRuBofXKL5FiArebOdiVt+fiMYOWiczVCqbqoCRyeHzgIXJ\n",
       "DwhXvSl6cb1AUOGIAT9Vk0gA/7HqSBCl97k5o96w3CraRZIopq8dyIs/MAId2hzGqePiBaYQ9NDZ\n",
       "/M+xFnEsAdedrUzQl/I0SecKZBU60QPs7k3r6m/WCw78pXBa74gXnyjZW71Knw81Mh5XR2hWi5kp\n",
       "F5xrpXomG0ZJlJcF/Opld6NSvzD2OM8BprABWtbhdnqE32hDZUQ1hjbLqNEB6E8ApsPTjme1kRNy\n",
       "18JrrzWy439b5FjMBepxDLQpQ7QvfRrFqDRUcW89H03PU7bkZT1hnA90yvXC6w/FMUETr5XTgQtt\n",
       "YJPfrbXj3bmlb5U4O0QKdkDkIXjJPN1bZrPMUUDWUbC+KYmtwWMHx76ZbWGCMaE44q4fq3r/BQ9N\n",
       "sPJldXbKMuQw8wPpfVlhpmsQ1zApBrHXL88NJRvP9bgW16Xj2uXQ6aQ/6BPocifVi4+JEO+pFNvS\n",
       "fEzxtDcbkL9DJaIPpj88yNxUcmFTAC/rJQaZLNx7+A1B1L2GOoIBilzfpU/KNgosbcTp/OUu8wOn\n",
       "UNoBIx7Df84wQXkPcVNbtCKLmiIy1JW4YhGwWbRcGv1LTnrdCC1gEE6xZ9VPbSP8CLcpDBDllb71\n",
       "QdSRx5vs7afuenFhpayu5dpoRz2NYh80OPli43azSyj3UNFAJsWE/8Y/vqMNOFUm0MZsZB0ZIs7v\n",
       "UT0vAso3YI2Xtv9vyzkd8B+jhhTYus7sWV7Rcl/LYAj8GVe6gy13yDogQXRTpzTiT33bjAtqCeiy\n",
       "iL520i/97bRbu1WA09eadBP9qJrjqAMuxZO7SUpgBivrRpiXhljGkdOMKFlDmsGKLs+Jg+1sXvSY\n",
       "JNIW7k5akE8lmqoVn80xdrJ6+QiAEtQOSIEbxN7LqoFLfT5Jevv9SfsPno0u3TXiq/5r6qkiNa41\n",
       "s31R+/Zw0S/y3fGv26XvTRA1Nhl8kZ4ovx4jqRC0Ai0co4lo4vElnAtsw/qcihSXueF7oHMBHSM4\n",
       "s+yQDh+fXy1pa9CaBoaWseH7EKCpCvnYvERiAc7EZoKg+b2n17egBl7sxjexZP/sj/7pcVtPEEkK\n",
       "jBOHjgGMVXD72SXRA9bnKvlzUW9PB11uj4EXJJdVDd5t8vhM6tw1xOiIXdvf9j+KEMNkO1uLF+LE\n",
       "OdzXPNV9JjegDaVvuQinSeuhGkhJZf3hbkCObH6eyBbSNRdGNU7sC9Xd2JZUWjfhvbDH2rOKgaKk\n",
       "x5hwwfvd8lGtiw1sUl66X/2dKrw0nhGb4/T/ag3CTe+RtOETvhQlfcCPKhVW8j8FM4tyAb0MFCYw\n",
       "z1ropH8bWyJ92Q0z83A4MctTN3e7ku7uAAd4xBNfXoWpiAzXxYnyA4MFIXB61ePtuqcpKDU/+kwE\n",
       "qD5nX1M0pKvLKzY57dQg1seEaYolCodxuzdqz5+NsnEfaDurYFmVRcoTlIQyKql5UbRg9pLP8oJ/\n",
       "WVMeQnKi4a5cNn4vyv66+CJc3LfvIArssfJzW+9TEXWn1ZwmWDkuuUK2/eSe/rmpvQCy5S8aNEzP\n",
       "93akXFrdHDwcTSk0Fp3yqPw/uHU4/XOROxTb6YgHAbByEIfIBMYP9Uxr+uOGeKxgPApCO6bro24Q\n",
       "z//5QoYhFX2DoJvxHSIF6XRyy3UYwrgCV8qx5aZFxPNNESzAeRHvxvCJhevQqsJ1vMTBbeBkfGNj\n",
       "FTsf/ivMafJwSlrizH3JV6xF4CC6Ey1StQ+wNpj07TC3ZOo99N+lYfwR6e+3XLe9M0ge/Jj7JGDe\n",
       "Cz0jaZx3QxqmmMLmjoPT//84Ey1Ihc1DiIpd6EpIQiXZ+QFwIJlnjUhsS3xJfYEdgT+B7mmlr2iv\n",
       "VW2kCb1yYaIkJ/YgB3qeWpBujs6LmDXw7caqHN3Luel01oQeDMNycIPffZE0d0m9lOnlCCQyw2CL\n",
       "RE0JCNKSYDzmlDEczJbQUGgwrDK2v9tmNyYcZGfd5Oiwbk7Xte9bF/dvZGcGbgKxqglBp9W3XJ8J\n",
       "D9sL8fnvp3tPzFfK8QfIJm1b8K42N/dcMST8FB1cfm22C3/rq2LrX54YLZSXDsqMNWjCmXAYvY+q\n",
       "UVrI0XwfP7UlMCWviMD5z0/RTQ8syeDHD9ZiEoBxrdlr99hNF6Mf1KrPPmF/HasiJkY5ak05+aCh\n",
       "rFn8HfxEjX+CgzCjjpZTEZL2uYEPYASNPrxm83lLgwVaYsmErUfrn/L/eeMewgCCYyPwfztiDU+9\n",
       "DaFIMRXwmbHkM/niNd+5oKAXJ4fm8FbnZ8DuSI52io6iIMV8xUshAdXHZylWuMTSd5ChGT85o4Km\n",
       "qK0arMURnSFfsQll/NzWDL8OJ5VJhM2V0Kf2VYyzGJF7t2MwcQI0hvCS5YAMPOGZcomnzGVcaWWV\n",
       "gh4M4RUvXtnP/jLQ8yaCT2MS7evDJ1ZKYA5dEdx6apnbeE9poBju3v5imRNn+/Y6guaEmTq4LojG\n",
       "jYcVKWeft7YrGXf4nowTlWQy/Gefi8Dful/UG+WESbl1N2YXAcjYx0+VmIcMxFpjAGNpgQV/ve/s\n",
       "uSkbnViYW7uZ71gxZvPzExacwQ91U6Xt7Z7NVvQoR7Ria22kvVBS4UKCzaGCYXOsK6DN4DE6/YwV\n",
       "XSb+5e/WpKjlOOkOHE4dDyqIJI6HA94RCRmwxd8jPm3lMugw4IOIKI69cjxO+od07Gp4VKesS4En\n",
       "uaKx/EKl+t+WZLeY4f7oYbg8ue5jfoZNl4COSavKfSvPwJDqTZopi1ZfMsMECj+lysyQo2SVa0Xv\n",
       "/946XnZ6G436k8HAZCETrruAXzsTpO4WFGmadZ6Oq5J0kzgqY41X15Etwk7TbSSKPOhfWU8/+rv4\n",
       "XEqpHlO4uSpTUjCJSd7GtCnXVwSOYvGFX/0l63AnsoRXubGXAgW6FEKUkoIsgXup9tMDvHs6Pa6E\n",
       "F7RUdEt5PEvDfOKbIzrTmgqCP6HIcJjO4S89uoWUNlbaTssfq8gZYjhteoAppdtNFxdm8WvrIE0r\n",
       "gVse0wJeaq7CdLtMWoAKt3iZiYKfZ9SYIgZPUOVyd3P5V41lbe6I/k13/SHrCAzWgu0jwToeFQ1C\n",
       "KfNPG7mQilkRZblfH/G5dLaktuyym16c2puzxBKD52c0lkPLRE059jVplhnniuZpxxyLo4ID3P6b\n",
       "CAQTyvxf0rtXBEk9w0VKBamnUA1Y0Yyeho7s72fl+8D64izAuw2NWL4QlSECSNOmxmuhcxjlok1d\n",
       "LxskyhnN4ra10OGIyloK7WnzPJBx7Km+Rkdjk3gKbVTleil4N8G8SfEHKEM/aule68Ox6JrHiFaI\n",
       "0vfpDBZrLg1AevEk8Jf07NLruP6k6F4RMV71FBGDBjHQrbfaozH/nx2dRAxYZeVUJHxoxY50rfge\n",
       "o2oM/yxU3+/+kZc0dp3dOGJX10Clzc84DbP3Yf5NwGQa4GS47p3y2eCt/inqUZpOUrkKEPZZ4Zpy\n",
       "VuJCz4IMd0RMR0GVp0CMW8qpWvJD+0dmNjuo8Xf7lsCI1jjgLW6c5axzAwMk1SeYPaa+NNKxEBy5\n",
       "6bMfQ+Jgsv3g8V3UhOOoD1IxAQs5FKhvqRXSp1aum8QALvhAvTyNVRgujAfd/ikO/b554H3/NsiA\n",
       "s4x/4UtB9dd4CpnsI3R+SfLHL5FP8WR7dQSYcwKCI0+JrWf5/izJYcX2O5PFdo6Yui6/iw/zU/zX\n",
       "pHa9wjZpVG/avvngCdHobJIRf4YdjPtZ6I2I/42H1tast/mVQiGdm9vPu1IwQZI7iT8Xl3aLupFj\n",
       "+eAX4819FsDJJ215dBS1zhjh32LtpKs1ewBRJsoEdiP3CAe0uon6H7GQu5HRKDuSTkRTBsH5Yz64\n",
       "am0Qyj5AVqQ88yc7viXWlxQ2p+mlRsHNCRmdtOfFzasgb1zHvq+9RcYr+NGK0/uc1+Igz42YWAe7\n",
       "PykzP20uZvYvBQOngvG7O5W9XJn8kjLsMazlOEZ+g1N353L0JldjdYLEma6qVIcX6Xrl/4qim3yP\n",
       "2rsInt78Vm51hoQhoCzPe5NDU2EIw7D4+Vgg5hjazQySvjpDWwbkDGeZF3cU2UZLQwRfjAK6vhuz\n",
       "k3fhPQe8EPpYstItAMFlKmsB4WXU+qsn6m8uTIbT7ZSGd9o8GPU68yfUFdb9fkPQzNYmQXYH2A4Y\n",
       "wQP+VHD5OieOtwvDaoaOzNN6Frf5zbSmEsQHIs6boe1n2ot5CarmDcZSWgge4iklxrsfJ7qMObAm\n",
       "HRLL4OYYe2d8xBFfFIyi68QGk0wvldaACNxhxXYZhl4A9b3FGBN8Ad/oCyVkroP609LKIOupq7CJ\n",
       "jk9N6eWjEhmZb7ZCSDrvqTpYfcOwVOsWZldsxgxnbN3W2aZ73vkIRfZPE+PQzYr5GDTNX0uKcgJv\n",
       "miutfcPJeOlEWYvEHqnpGlmVJy7coo9d9OY9eg3ymNLiLs9gJUruUaLABRu1SOV1vmtLObTRqXdY\n",
       "YXrEprNFto+Psa7jVCQDWvfcoGMu5+72iTWEXqGYAAE7DsJPD0aRxzQOkUZdlLDI0Y0OJ8mGgCfN\n",
       "Dejs7xVcGcbTEyOfwHxpoxWRALg5/TkZpceh0q2j0CjpF07tH687WYD4DATLKUDHILlzmray6cKc\n",
       "pWCgkStKUvO7oRI/3w+PtclxhEtPVPt/VRTG73AhRnsff/yU0eYvcvHoBVOWqO71reUhz9aZRphB\n",
       "L/f6YlSHMCJdy6JGUE4W2JL9TIrJa5mfReZ0m/KD4AX94UNXSyGjpm6p6oVJScsPdG4uZULcUzra\n",
       "G/t0AfhPqaiT2Y0QDOugQdRcyCEAKtoj//tFhMc8PCWnyxAB6D5PaP69u6ekc2cVdTub+Tq4lULl\n",
       "66AdPD4ufIbsJzRHZc1A/cisstIJEEEnuutmZdlaPnQ5f2rn9ffo9GgAkul6cWi6nqnbmJPzBIjx\n",
       "2lHNIe337xKXWhhQGZTensGs1MoGz14BVFlDvKuKXUduI3AEoZXHX8AhjowpsQJb03XPAMA1Hwz4\n",
       "Pj6iyl2J3ZM/mF9xy0YJlHR86IBulPdaFOnNl1PWfsK+9Sm3oHU/Gwde5dImh2ZgeZAzcopNRnTz\n",
       "7NewxA7afYraL1p7aQIsjc6r/ksD1FVdnacKar8oVjLzaa0rKWuXiEtfKtmipXtMa3S5GAujFMx0\n",
       "vHWmYPZjC3MfaXPBjoUabx962I/sVODEgR9+po/c0kLby8bs1kZXAYjL/GKyVH8nijZr+NwKvXLM\n",
       "H6b6mH+iTCuxi4e2i2rknUpIcEfSqbbKepoh/jxnq9KMecSMxLsHp9rPXfktJ3bPiuiKY/Rom8A3\n",
       "xFDNRT3xECwsjh6qI7QnFkcpSFPNye7CYVjtW8DKtv52AsdYP+oAnlYs8Z13wOmM8OlL9oPy87Ci\n",
       "1PKoUPLCs/DYUI0jsDFoHPh684Vyc5LcPvK8T1MRnlYnUqK9TQoEbue9ksfkU5SiTUUVeDIqRbwA\n",
       "juK0ac2Wat6Wbh6Sc0vkKuHy5/DSflIeS30CCLnGLId0cFyn/+p/1XKNU4z4/Hu34DT9WH3xQGXu\n",
       "lQ6pSL46S71w0kcIK/TGjpOQ2P2jtOngSu8C57LEFv2x9iF7v6IvXrRu+fq5waLOAkZnLxey6rnP\n",
       "HhWB7ogxdXojHJ6u3Y+CkdZRe3Xx4jKwi3Z9QclfpZ8UxUEdcyjHa+eFlL0ZRhJ9ujX63Yhe/sH/\n",
       "kF1QTckUlmbT10PFv4qAgL0HUCyILSKyKqdA4Kxwn8RdNVRjgbVU3M9tfNwpTTYL0s9vnk9CD11x\n",
       "YcPbzE2ClQnYg7IlVbuU95rJeyqKEcFZ+wYq2X4Xv5zgM4m074dj+txwuh/2rA+gMFC8wD/AgELm\n",
       "MboAc5GVDRPxV1E+XL09NVY9uPOMEwrj/7Rl0Av5KCf9/jYpG/4DmmPELW0R/za4RcVQKuJQmcaw\n",
       "uzDdRQXtpENxsFd1FKY6GdpPCuV1R/xSfU5Ra97tkf89S4LsK/jicdnkAGFw2jDf6IikUJBrkace\n",
       "IsA9DpCisRQsITpFmyRQ/JL5gZJ6MmJj6bCagXxBmiN78tOSsT3/tM2Y0ZcyFley9suye9p9cSQ0\n",
       "k19BRqWpz7SZxfEAHbglvaVIbm1K59t21tsZRAEKbMvl4xefQJZvmzfBhOGgCcNKg7EH4PCTVmR9\n",
       "+po3fJSLVBoLeyIKQlSq4dChhDYNx4yNVa7Z42ShmKZc1DRo+1jzeZzO9l/CipQWpNL2DRf/9Mam\n",
       "nGm9lRWo3sXTdx5ZlJiNV+v/2q2KHph3Q2i1pHsuvd10Jwjuyv9e3jPsPirDB6hJtEdDzjxoCYMm\n",
       "TFKQdYmgaNvAqmazk+sBrd7qohRMzRu62SIn+bkCX33jTVcKM/TGX+m6OxMbHo9NWu267hsDkwQS\n",
       "VRz0jtb5y+jOxSGpuP7wvPA2wXcHioNLlmWUPoUsNOL0WjiKbaxfOqO/0EbxUDzP+/PJHE8AQ726\n",
       "hSuSppxShfyzQeI6PSB0dDy5DcGWkOm2HpDFFswTJjzPftz/4fc/gqXBLtZQlD4+/zOBs/qYCULx\n",
       "0PH3X2PGDs2vFKeegwUtNQ0+w1vlJSlbyC+s/k0iXeShD/AqvsZYvyo11a/4xQZ1MDG5bOayyijN\n",
       "+cw8SK5jPgASH9fZaJMDaP3PuZgNdwKYrQCCIgQHOfu284MyhAAO0Vczjnl84VU47UNKS2/U9PQ4\n",
       "Aaw9A6gxTaFsHkUz5x1hk9es4GRMNXExTX930wjDvy6EjTdQuv+LWT9rAPpMuazAnvLbUHWzE0gG\n",
       "L0MrOrbGRLJm1Uh8CxKbYo6dzQB8/qGiigISA9C9lM9tcYtRsyDCxZwVeL535w0KZGta7uWhUArN\n",
       "cYpgNSVfwUGqzMEeYXbpw1rwYipkyoUp4lVv6tSZ7JknvLj9bN1JWjHgtuGFJBkkTrOe54T6zVWS\n",
       "7a/yPFxK0hqUiJYzKvWag1lHD1qwlKNnt2EzB9231LbfIjVbcFXRjINoi4Ck5M+p31k5UFB5uFeF\n",
       "7AprRFOByPa9ROsKuxsodBdmzLotL3nuNuW/yiotvoALrgdPOkTtot984iUlqL8hJQXRhdzJKQ8Y\n",
       "DQtGuQepapZR11Vud9VRCNPefsDxnGg89AxW12gYw0xpJPb4qExqVGK+O/ozFcsVn2axxclF1KKN\n",
       "tn92XMl3fJQayYoCrmPt8fqB+9LchgXpLUFVQb/4ovzAmhDwM5Kbo/E0+wfyYXkeT2N4ozFHYSCn\n",
       "W+O6qpTacEql7WR0QBMiS53iSkhWA+UDTinugyOmLjshxE7JrkMVGu5qx/jR0wq2a1UtrfqRvYnD\n",
       "Nm+QqfFVt9cLQXTdJoJMP2WpOslzb8q+8sTm5NVyEGFWGMzaea9KS+hX5f8BzyKNCaFOFJ93ISXX\n",
       "OS3Qq5xE2qRbQuOfAS0yb8gDhUNi3ticReisqPquRAxG8MH2I4OwVzzRLXoLM8x2BDk2Ig9zYN44\n",
       "YEmC/qso71esOpPfyMV49MRrYRAtZQFlUl9+1gW+ENNVHDbqmdahxG+XrOdiOdMCo7bpsLEqgbJU\n",
       "vC4ya4pQjJ35VMAjNNjpNYU9htolZI3qynk2Np9RQ3wK6VPviCrSaYe2f+NqxhWlM0CUyCRBqQZF\n",
       "KEQl0/JUWjM9vMZdr4s+Ch7lK+AcjWtCwnzxXer1ZzuU3ng2/MmIx6YBn8loucHih7FKYQun7zWg\n",
       "0rLH3grwIp9RCN2Wkb/6dZFD1poUWa8zreJspa9T/Bw/hUGr6WzGmDllk3BNTEzzfrQS8D4SDZBn\n",
       "HAbiGWyiBdPAVeLjSY7HCoFNd/Aq9xCGdykobAN9oCzOpT7EOdwv885ks7vMd9b7dcL8fZ7Olej6\n",
       "/8hXEwYBPxrN4ya+9sWuO/IyFgDHEsMEOPz03g6TonXtwEHGbqc/vUVUfGP93H3+XbiJfYyEwuce\n",
       "25hmhiNbBYyPXqts2VDHfXZCZJJeqYE+y2Yx44Kvqs925eGCXiGQG1LKWiITjKmUs+yGTX+42xwA\n",
       "fxP8x+jM2pgUtLH5XkGj9ik5sNxC7ZbBGzexuE+FoRWidNWnU7faIiW5VH+I/7QqKI2ZtsDk7ZPV\n",
       "Pmq2W5YLpQxbA72Dd3I5vKg5OCXrHOUIjwoQI6MffphpcGansbeQbp5IlL/YujRHHZGi2ejmFjrR\n",
       "Fy5fbhX+rI68mbOacDPZ+6dHL8mXNxA41tCVntXbQ64/2qRjueX40FSk7nw1QSjPhexNfOYTS77t\n",
       "9DD2284bJ8SgYDVBtXXh87C7CC/XMGZESAVw/AeU3/4acyI85A8JYe4R3yCwcOMX+dqgK3Q0h3nV\n",
       "7zKeFmHFPgofqsJClsJ94Gb8wdIloTCibgN3U6I/JtV2F//wu0V1dctkTqieKTNwJtwuUwKNxNtY\n",
       "VbPcjqWcFNrE5IXu7JnRDMPiHsZAwNeieo8B0gLAQZIUZqyY86WeC01O+N6TlYs7EizTVNKtxLvI\n",
       "Cz51L3OUq8x7a9KOUH1Njo0jZlws50HLzxw7i3TDRY1SXXPoQITDlVUpwengeuVaepek6gApVtgb\n",
       "gLIGmR0FlYFvKCxW3qoeMyXvl/Ft+nMFUZxAR3yq1zt2q9eYMkRqRCgiJIamzIsZfGPwxqnu7MkA\n",
       "X2MoHweOCzq+TNYiQc7EEEfCHhx0wQA0ZjYVI2X8FR6kAAAF/QAABJtBmiFsQV/+1qVQAVwob+AI\n",
       "gVNFroeR6JZl05lDfr48ysqfPpYu+gghKcxEn3dHmMWt4uLELzWGYfiy07nbkX4rKvXM0Mua0I0+\n",
       "W7zK6rjTAsESAVK63QBGL1pGP2NK1rbYSJm2728rLiFR3r1q+XG3iCvzk8WfoGNBIf45md8xI/aC\n",
       "OXKcK9K9sY2WHDoWHNLP1KZmz05fwykWm4ddPGxIETPWqFmULThN4KwozSpSnhIDZNVUdAbjOvct\n",
       "lmo/PoIkpi5g9Lv3mSr1cL8uidovPDhP+4MSBYmqElp4Lb//SmfiJLSuMs3M+nRtItwekad09t4K\n",
       "d/4rI4YkxZ2C94btDfiP1h5F7WiBjbcZFyyKA1WF80YLkekEnz5fcV8pJG20fLweB9pASeNO6nnO\n",
       "xTSx2Cc9ACQN/T+h8MD7ioAVD6ess5bGuFT4QQAkVPSCEqCSrjPPIK2JnD81ClRlq7HmB8C6wCaV\n",
       "3llERZKqmej8MO/pQAAaBTscifa5SaS4mbEyns+RtgLH5QsBt9DvRVrEWDBbs9hz7mFRGPaSYVcS\n",
       "u6jrgCZN1vNSt18Slvle8iONiyMP8nyztvWlI3S4nUDNVKyy6Vb/SSjN73vgq8sithYbYp0IWovx\n",
       "BhaX/0JIIUvpgg6ExjFQMux+587hG4E2HUI+yo6QYx29UsuFqdgsksHhJOxJJYggG6zoy6nLBNCH\n",
       "9Oua7b2jxW7JCXQC+VN20gQMvyMa1nQ9bI9n+sL8L/3a6VCXKK96iU8YP3OykKxX0RPvcwUy5xVr\n",
       "H2kXUyWVU+6R4/2MLFmYRNfTktjGgbYO/elA3dx9CwGnJLZgrr1kcqG2C2f5HDmnr8tVKJt1ZWsj\n",
       "plVO7wMX0qkDTxjTgHiP0mc6eJLjjZE7g3917iS2bFDQ9GlrHjwXc+Vb4w969qrO/Fgmqvrh3jvV\n",
       "rDHC72QhLsJ7G5/HhV9A05vM0/0HahNdfXdOsFwip7MIKiC7Be3An+WVlb09m88UFU8dPOnArh0i\n",
       "Laufe9jXm+06aSTYyHTTKpkzTukY1c85Yc7AN0/zYT0DjxWD0Cf5XUaajqK/7ODkNSYwJ9/Svv+c\n",
       "ojwsC1OMkA45xElajROz3dMsKeat03DyLSA58UKEGpaglc2ScPphHKWv5wbjEM454mqTm+RxwmKH\n",
       "YHUZ/4IgcC2+WW4ZsKDg8IqEDATqDTxcv0ZyXwfbxiJGCdSHeNX2Ze0R7Lz+W7ij8dEz1UWAUUvI\n",
       "NLzwNP9sAGeK6Hv5AJTo7A1ni7/mCI4DvVgaHC1b/gJv8Fl/bStL2vpFEGZ05p6WEfsO7JVA5DYu\n",
       "BTxBcEslhWesOF0gTUUa1aKUDMK8dx2adMlCZRn5gDWZNI/UcB34FLqdM1G6umoBCJV/WCXUxdBZ\n",
       "fFv+JOaB8B2+sVJJdMkuL3ogV/HsP6xYGzYM14FX/Lyv+Lb3ifgxNzkAe3fGZtZ/dOFfU075pps1\n",
       "iDTQZZ41kEr53CrAWLq6KN8rW3PXyfbBUjlYBXdgHJ7hmczg8kf6UD1gAkvuIAv7TCSK9ow7x2ql\n",
       "jNMoQyGxSTXN9VA7GRSFoy62nxwYb0AAAARIQZpCPCGTKYQV//7WpVABQP8ycVl68AJrUElD5ySN\n",
       "ivt7IW4PCjkLtUa9ObzdTZWy7r24AKoAEyoAAjJs0/R8dqRNKyBeOjPV9bZD/+jFCfLeMBaAFriN\n",
       "+jLr9PN90q7SPYHEpAVj0bzl2PiGOGQ/DbjeYZvaiV9rnSL9gN74NLMp31xrFu7QWsTmD+xknwOs\n",
       "scQB+phxVX10Q6Itk4alHtZmr4KCbd5uI0DGFWJR4FRIL8zSeSKK1jt61jy+X++4KRSXorbgCtOD\n",
       "kJXbYJyRKES5o4ZING6mZvJ4FjRbiJBWzJTKpGyBKmI1g7QOye2eZOKACV/JPaAkwScnLqSob8xw\n",
       "LLVjn/qyLqd3+Ol7AnwB5JccXPu2odTumdJAs+bJJxBmBN+qoYp3FbxXP2P9Ie8PZ8w+3KTcamfp\n",
       "/Q897yEEOLymTsPb/nDmeH3QuerX/Tdf32kF8c6pgob2aU+uervwE8GhJfkAABmWH2MUHbCbDLeB\n",
       "tRnOMgELo8mAlA0/38gMHGsj1rLWPg2PWE14tF8aX7atIqw0hoILZgAfGMs1giWjj/M/pfBhIYlt\n",
       "mx9fenIvrqBV3JNoTPnFkrfXwjqkMCNyuoBU0ERrwzabNH08PWm2IHIRICxpsF78XJISRvdD2mvK\n",
       "rTRI3kR5QPlOuV+eLuxxjXqB25QNqKjYU6+hv4Hdh9nVjIfo0gfVBRAKQX6hC87uAOvUuhAuGABI\n",
       "48sU0DSPNOpSGx9y2bl9+NjAcwItsRNly4N7Eee6Zal7hQYVDCDL/E4p+k+Rq1iIzJo5QmgwC5Rw\n",
       "Hmx6HbfJBUTGkFTXTVwv6YngXJiORjiNCV74oFzB8SihPZc+mOSaHa1700Wr7/Y+lPmjvEY2oAeV\n",
       "CIe9z3DxscjvnIF7nBUwR4EjZqsDoroowl0n1c1sbT8I98d3PIw7iAZyaphScjrv/k77EAUxq6UW\n",
       "iejntrOobHUcpVlKL2Yh+qMfdJ2Mey/fHhsnZ5i7mHMG2car42OZO0d/Sn1Mt6m/9BDPUohVtnkc\n",
       "HuWqmsb7ZIRf4TWcD8IEHwZ7LSvtT/DhqY4Rbqnvz8EEc19DNTeTOUQAjGyLiXfbwz8I5YBGjCcD\n",
       "ODfw5gAXCkPQWfJkXd3QDuZ2sQlyRXQ2br2jVyjedwfAq0qmz2N+5ZX6jVysam8ysIEuwqL1TC5E\n",
       "C45XKb1pu7Ni/thUhHYVAKhvOERoUB2IrY3WozMeb2PdTRB9jb8gCJ99aMfjUFko7CDGsDHI3/w6\n",
       "szncnbOdJ+OJ+d7/cCZLYP03mp7yRDAtuAkukd+ChJ6EsfzYogfOJHXvYRUobB6MsAAVYX4BuF+n\n",
       "B5SZg9p3S4jphgVwX/H2uFpUhkrba00dza3xLXWpnkV3NJFtCCHOKAb5UKBPxe4/BHMYSeaqv0WZ\n",
       "d6a1wVHtJxYdoHUMqHqd/TRDMinzY3m7gBisHQ/ZexYw3UgtqyIPuQAABKNBmmNJ4Q8mUwIK//7W\n",
       "pVABQPu8cMKaDQAJn+HvSRoOlr+1EPr+VP2HLaYPM2bo9PBTnpFjyVR3KYf1LRpSKYOQpyBcGD3N\n",
       "5QDZnvxwJpx6RfENVodhlQWwbxd5nnSY6pw24Ul9b+DjwFuqP++fuQsz2ZONr6tNjb+Qg51Xgf+3\n",
       "9H4L1ur6i4oDp/6otRNuwFNpcc+2JNZE5+cbQRqfE8byDOQShaTlVnOAkpg119st2NR0VdGy4213\n",
       "HRCav4ekHyM3h8AAyHxJAHonwCsl2cyflYKS4Sd9OXHJmlMydJXiyKV04QIZ4U4ZN027JjeyUPgV\n",
       "WY2N5fvA7l5ftTqz2VvvqyaIyGAR35y/wZWZDQt5agEKNSMlG4caElh9RrOyzSfnOF5apTY3z7JH\n",
       "+xzth041PV/8zM+IXN3vUM1dLu6zvyi6rDjVBodaiD0Y7bkNuKWHuGyfA5WWBYKzNXOR/gEYciaG\n",
       "OMP5+lizDAkAivtkdC1dyH/71UhDPT0mAfUQBAEkpya7ymIf9Fo3UFwNVfEN4Hv1LjCTbKbg2cmN\n",
       "4cKCw/zq0vvI0mz/7ux4jcDLvrBDeDTtrqYEvDlzR5+n9EVxMMU2ycGnBq54PPzsh5mZhB4LEQOe\n",
       "SS/MG9HQNG3eGrJ16KBxqK3aGlp2yiJ+Bzyp3SbIc1JTRiQ8rUxxH4L//rMO0s7gA6Af8ArFaa/I\n",
       "WgqQevAg8pYEPgI4Q0+uF9nElNBGublWNBC0Qr+Y33SMnA/ezXBNRfytwONMdgNEi30CFu83/nl4\n",
       "aCLBtQV4YQ9HoqhNgtunHUvcxAEREa4OQ/Dzh9eHGIG7UMQ6OBT1JWgmQE9B7czBWo+ho3ilAhqF\n",
       "57AqyOUF/gC7lh8lCOnF87HRjduLVD81T0aD1BBDg2qA/Lvmsw8GUt3bLOWD9KjQMJXqcJKw2I76\n",
       "8x6rRiaC0zuw51f9+CA7Z1oIn879LM6Ua+tdfQIefU+ln8QEzo8c0BeVSlkLy+btYSf4p3wpug25\n",
       "jv+9yvtxluR+Yffi3dBrRDoAdJH0tQmir/Czd9ZfELE8P5lrKj6Wcu5EQVT2OwVXccvahI908q/w\n",
       "qkljlWAS7uHJNWYHNyXEdilN4OBRPjzWmdMNNwvSWnSJ4r7H7ggXfDWwqvE2iRw5OzRgnQUMjSbZ\n",
       "TfGwunzk8B6da8S3T/+/5QpzVLW/aI6UnrOPSI7xts59mMlkN14X640VHFI25GmsyF3yl4HP2VCT\n",
       "nGmKsLV8A2L3g5YmkZTGA/ix1hVM54AAABlZEJqlVRduXoBjiivhoATNjty2P1GD1zK8wtkrgE2y\n",
       "rUBUhtLqHADjRdOR82TD2flyTV62K8NGXTvnlL656enVwenxAjbtZ51fsSa9CgoniJgKWWnpJfGT\n",
       "bJJrBti8evQOJkdEzdzZEIzA0QtQzkMVhcVzDqU4b83gSIt3MLQKF4zpfSsavvveKXOcMlow2RCv\n",
       "W5G978GHyGmTZ/U2Y79+9gz+NgZgZb2nOJ6CTytU2lIYuGj/t5XuE5kAQrhZG2YOHMpZowFtzCck\n",
       "/u9gk6c03KkuaTXITbNCaC+pbYzK1BwUvTXB5KSqNWrbMAAAA8lBmoRJ4Q8mUwIK//7WpVABQpHv\n",
       "nAC3soNaBf3AOtsqPdiojh1HRZf5s6IbQeLl+2Ym+aGyOdSK2lub4iHW34HTydkRG17TUrpkQWbV\n",
       "Z+Jmv24VguX8SqWymbaImTq+aFPeqX/BakaIX++ok3khUex4vLV+dVgEulcSVubaXEQr9/Ju6KHL\n",
       "2QlV5BKaNM44dvLOR7O/dgXy3qIumFhrbh6WQBC0viDqDTbmYAWtAeegYObB9QONDmi7yebJpRhs\n",
       "lSv7/Yy87zSC0tvyGzxZr2DfCzwA6wIl3fa4C39YeDxOycWW20rVwy+qh94FuCig+brCTmZP/Zwt\n",
       "1hWfKtyPMa+d1YbcSqppzNxa+cY9Ih0PvZWxK7684X1U/0t/WTx27gEps/CDUv44bdarpQPlo7dT\n",
       "3m/ZvMuEcfhEjFBf/+Dk3lsSKBoCm0lg+BbOWoxZN151VAfEjFBYli2NAPPGa0mOr8Jk3bUwvdF5\n",
       "ReudN0LAFARSA3tTj5JGp+KsMWdlVSxWTKh7AK3fe8yyGFZWkKJbwuifrGrPKBFXgLPQqrzcI3o4\n",
       "9K60XTytNuJQIOQ2HhCa0r+7pTm57Rr4Wf+eOhr7cut1+mvSu4EPhIdk+qtKFjX9ELkqgMqtWJBJ\n",
       "XpnY3SJS4QDBGBmj2ziy8eWRobS01wX3ANikurKHq5K62D6Tpt/VPXS/wOM1gK0qW+nQRgVvlA/1\n",
       "SVE+GlwdMxqg4VJ55iIjz52y1vKLpl6qSWXAJ+bBWChtOcW8Kcbbmia3igzvo8FzlKP9c1z0wyDC\n",
       "+kDULu9EEZiMdcLsln7cASJD4H38f66VWSAyxn1WIUFkmbPgK3xVQp6C5o9QnEz0AxR0C4gJcyiN\n",
       "hNbw6HEADkhwfpRBdjQE5StbDj98CZZ0JKKVSsmnZMtGBpskRRArT+pV6F3qMQlNg0/V7b6JsY7q\n",
       "mdkH7aJEVk2TrcKvHm0euew5gqdcBxB3mdSGpl/FLVpdA1LpdilKYoJg1PPwEuKj6J+Vgs2yEOi/\n",
       "5ONJDRcuIVluJpPSYAb9DNwdmMIblZ3ynIcORhZo1Ps2DD9EV+ImOUyiO56yrSgvmZKQKgOQtxv9\n",
       "Rli3Z1KO2eLtB/yPSQ1YmOCBlWD9cF5xYPAFEQC5B4uLn1qp65286aVp84MrLUzq+CF07j/y0O60\n",
       "XvP9IljcBoy2tz++3Te76XehQNXZdbcHXUZEb0ojMNd/4/udnGf38ktsadUmAPXbAVgLhMQIbCF5\n",
       "uwZud+3tgGmCa0+yvCxtcgs50h21K3VuHt+q/kFGs1x5frK121MAAAPNQZqlSeEPJlMCCv/+1qVQ\n",
       "AUIgp3iNoAE5saV3nszaRaWQhf9ddrnGjk+1xYJ3Ksipcbb9poO8b41FBCNo59YiQjJAAB5obxGt\n",
       "ukbZ6EDKz02rlFibiKmHvhX3ZGnyt/sc1846elWWvQcH0HPd0pfOITg79gALSncZaKyIi6V1fK7T\n",
       "C1Nu1LXvBKz+C3U1QefkDzv4sUgJgvtMtJdBTTEj4Ku9a1mKixdBjyEizj0dT6tIQKpsg7QZ5ROw\n",
       "CsE/gy9a03pXz6HcCKgEqmWNjZwiJsl4aw0qRTTo81PgilMVF2zmxb9WvKAOsIRpYNtloRC+ZQ2S\n",
       "ORKYsKnE/lOfb1q8fKDelmJRW6z+41BRHDYzHYAFyfMk6EOcxAtLne7J1yAiyzrwwkKiI3Xmu5cG\n",
       "rNoXD7jJ2OIP/bKWNUUcGM/8NVxTNgHlktsqwYM9Kne1dQGc689WydhjNis1K7KqM/x5P8qK7G6O\n",
       "1nZgsp6bnz4nwF6roABL16zf/jRMAdKxqVysCPRL4LHxO7fSEpRNon0JWu+pqkuU/k+A7oEaYekK\n",
       "gouS7U/2LFT83ORdbSCHVp3v262BdNxONzgas3xaUSV7RIK1zjOc4jbMjqyVWQ/65GjOjSLEPh1t\n",
       "+z3hIhRaAvTg8wQig4418EhV/G3IVhzs4W28PgG+s3bHOJWiV2hP+QwAUE/Yx4nzZQ7cQN1fHrwr\n",
       "DdS7yxO9FCxiM4FOHjYQeG3kYnQKY9H9l3ilr0GtsuQwhgEBJpDDK4gl7Z3iynEG/s6IvvMkyKdi\n",
       "4F9U5c4HAcyOemn9epGaUaOY4lQUfEW5xHgcIXdVQAdc+ZXB/FI6ovW1sJi+zwEIE3/0KwDUt5IA\n",
       "ovIjkQiC9EIOmhS5SA8AbmEqniVP5ekYSXHO3sm0WsTgLj/TIrfLA5wUyIWO6BD1TK9RUoPQd4sd\n",
       "CaBH/BKvrQGrCDuVikUHi9tk4+hFUZ33agptzB47DWvkZrIbyrMUVJggAhBK7DwAAC03ZCWkJjh/\n",
       "5NYjKrmEsyyiTg84nYK3khelf5uz1CsEMgSLJvf5D1B44tU/iey1rw3pSSLT8Zpj4tHnnteJlNwB\n",
       "HRbv7wL9Z4BHiRmsq2OFEaFYIrX5QpLcA3msFDAqAb0OYbMYmcAA3+EMzRa/LfLb1IdTAsUS7GiK\n",
       "TBpqpeL/sGpT9zN4saB+JUtziul3tTfA55LOMZnyIMg9seDIRJSU1d9rrB+a2hRjRkZtgFNq0sEG\n",
       "gfkJu6iuJEV/6mdsvZuGnc3YswAOXYt9QFAKU5XXl7BLYc0Yi6g5LfhNPypd1wAAA81BmsdJ4Q8m\n",
       "UwURPBX//talUAFA+xDGZq38AJilRYnOM07PBTYF793L+ZOtup34utiYVkiejgUtSQl01TcOJhkW\n",
       "dIk/rEOLE4mr1nJ/kDLRoaHLaKSDiTEMED7iUKX7afE/EY/aTaeFrVvPUKcAesfE14evC3f8d9P4\n",
       "3KkyknWPtWMApiB0BaL52ey21D51RT/UkqDOa8CALg6ggA1ysFIO4axM7kaXFBesN7e99bl2Hd5z\n",
       "yp6n6UyK42G434r3nUIZU4u8HpD5krJUUc8xguBDlBCLdHMuI1RebT0lYLjLy6tLIcaoy+FyzLc3\n",
       "J+81g9ZrCJc/7H6DpudODYfO9LvGIrATkh0bgbf03lbnwJUkDd96LJ8+jWzpriTC/pjWubhxo9fX\n",
       "kJpiS1FGLGBErpuc/xK7bxq3UHkO4VjdAnhI/24rzXP+l9Vd9QjzngqwgsFeIvS4/61BNQB/s6hf\n",
       "0IeSg789nQWz9MdRABGL7LuYrIEAqKpnJL/wo8o/dbcYTKMi3AALmXeUd5WQfJVAiiOiaHpcZiNI\n",
       "FGaDqvOBfZaoZYvQM9BNHcqTp0Dk7wFes4Rb4D16Ofh7PU5eKLHIXZykjbH6xJXAnIjF33e7nfxD\n",
       "8AP+O/MxJo9bDTswq0+/GUEq1S35niKb4Ar2hq9PlfDucnnE7Be9XDwU1pcJIORHWrMQvHRPtbGF\n",
       "A6wFm1N68uRYOwc/fuBg4vEsNY/pQ6gmqqGq1cXC50CaNZlFFK1mkoaCTIytYfp5vQFSeLZ+IbrK\n",
       "1Q1ujes9MjrLddpv1CryF6ymIc/2WT0BJBMLAREFOe+DgOchfUVmK/qDB4mdZrZq1itNX2Qip673\n",
       "yFNTC1CfuW5QjxdxTKL8trp0y4qZfsZPriZhF3qeSB6m2vXfaIQ53BjAYeNEhk4kdl+t4AAA2NvJ\n",
       "7570+YCEY4uc/NT22k/tn5CQLpnOJrXD/mxFflSl22QAyDT5u6cV9kH04CPfJG9OKtSjqwSP990I\n",
       "PQhI3Lgb+PVoJf8z3UO1dQ6/ohqbPT8PROefE9d5piItqYbF9PwBwE1hFB7jceYu+zaCuiXelBzt\n",
       "mQAAfG+4jqf5F5C5FXAUkO2Tg1I3UD/UVQO77N+culVOTHcJSDg8m+Z2lzX9/uCOnmEfAzJi9RBB\n",
       "j3mPuDq8uuOPrYx70rN67afl02Hw/bfw+TvueKh2yzNBOHdC0DDlFjKrvGJ3Plqjpkr2NF1/EvPT\n",
       "oFqH6Z2H0krslTNng4NKhQJ23mlj+CcC4Efrcv4/QaxQWXr73YbvMt3s7ofE6L/sGHI4ABVxAAAB\n",
       "iAGe5mpBLwAE01PI12lwAbVvDMgnPdxupVotIDujw2gnmxTb4kK1OkY4aGH3QxRY7YQCsueaRYzw\n",
       "hK3jXIzI4t1NQ1TSKJnllfXApNsDimuxTf3AmunLV68qt9LhSc18crPhYRdz74eW4byVpQ+IHp7e\n",
       "wQKPLXSaBLJMYnNTsK5+KFM05jIRC3M4oEncKkpvNePN4BnXB9RuuRYIBl34ZSbERd/AxAACytu+\n",
       "RGDnllEqRXuAchQ4yCQN+r5p4dNLzn59ZUIuPhTOnjjXvupdGnmuJ+WrLPzQMtDN6zztkS1VvmxC\n",
       "M4yjNxoo+6AzXAV+6hL6raKSEj8M4F3M04CjOG3joCHdePne5IzAKUyH+q5t+jxK1rWvbgMYx3B1\n",
       "rWte3U+975d4MYx3H1rWte8ne975eIMYx3LhjGMd9a1rWvdvve+cA0+3Flca5Hjg+3WyZT7tf03G\n",
       "mvegwmjdCe/iLGPxz7m5LYxm5tfFmujM53vtzhd4aEIr8reReyfu8PYzFP/yefwdDk+ZAAAD30Ga\n",
       "6UnhDyZTBTwU//7WjLAC3EzHj/pJ45+Q1a46oZmSEKgARAdg0qVwgG/h/iIgzNkdbGhAMWlsC6wE\n",
       "C37X8u2cO3SpgG99udNmFFAeSwSotsqq8jJOjcwwYkDWa/YCJtHnUNfA9N9rXu3URrzIvlAxEiUn\n",
       "+8GmXvpphT0xAso4ojlOzmTrI9hm8KLerV5ajt8Jp9IaeQtQlONlp4j8WSkfA0sYogusMoeGJOut\n",
       "c1dwc/54SCqCZHKsw+KGxfaEOR7qqx+LQBC+Iuw9kpTj50xK+siKZ3HNjUYJWEJqKRAtGHB9JYQg\n",
       "aocitxNfKEvNIcJb710bepFKbWC+U021qF89SuK7LXnsiD7hhhZm2D8xRZ9ggoC4Zro4pf/wcFRy\n",
       "gEjSxk+CkspE6gi6UueFmfhC9iUqEPHn9NhsELcxtpm0OoAuwmYnmVIrGcd3VVW/B8CHSlVEIFcK\n",
       "YSB3+yArhm1w1yDo+nMnqdA57Js+//gZicC8CyyX6irgxZeNoXb4Rb6wzyx0kV0vWTHhGuBXwsMF\n",
       "8OiNzCaA88Dez8cMXG3M1q+N9sTBY4UVf2zVcwNyhFArbcStLzyQ48OrNsZbrcwB4K1eAhvh+VK8\n",
       "uhIv9oL6YGhUgyhp02frHXILuowd/huQP/8M84ClGLNbQeE3WVdgjERkoeX4wzkjZUPE5aza3YJI\n",
       "ioUeB32GsopBViLH+KH82VljpxOohhqRtgODfhvJZOwAAa+ZPuQuW3nY2ZfNmwCN9x5He3k0Lqes\n",
       "cHzEHoJ0hwN4p2yVdK/vHtNrEwBH0kkUF2B3gxtERDrwhWfBAw/CZakLa+++AmDzvXnNbti8CZZv\n",
       "680j+0a9JILa14lRtJl5ya7PjdNnfZHl3F/E5Dxe90Z3nK0XE0CHKjS1tBDAo2EzcAvCvtiKDClA\n",
       "c1u70R556jQxJrBsVq+jd89rx7aJZsbInE1Ys6oTJJeB9JwXsdGEJsX+hciyFCWxK2gbCxuqmnFZ\n",
       "nWrz5q9F2eHUwkUAviNYpWUGSZBCytAVzbNr0S1j+Gz3Ki8WEqXNpqjTlZ1HZ4vylH/7o1vX4dQ4\n",
       "+eWQvRYgQUndJj6b88sLEFlVUY2YcZHXjZIEWAlPvOxh9T21ZuqJgJYah2QIR83C9xI0ferIqZvc\n",
       "wJxZJktuW12gAkpGCc8sRgpiKqq1m2vrDymJAHxuDUoi9vJ60ZXslK4jg54irD/cKhoUiG2JdYg9\n",
       "MiRR/1+xiJnSwb/VxYG07RDNzsxNVXzdBsEc10nxfx4eKuPVlC46SJpFxR7NknVvk42zmroLrgX6\n",
       "8naf1z8AI9afk9KHGphwxzFWMqAAAAJNAZ8IakEvAAWHf6RkFWwpmNXc2GaQWf0VQAEF48EzLnc1\n",
       "RzWYX9Gu8kkWGiPmJ+VdscseQZceK0TUYl0bcjVJeI8SpDvBKeGSHHdvG+dPD/Oaf69rlngoQRVB\n",
       "Vb6uPFMA5KmlgAAAAwADmNaIyiB3gPxEKllWfUGfIznsl/iammpncuP6JvzquiSOgX9jq99DILyJ\n",
       "nICiLPdASuTk/W3o33acJLUu22lEeghicXR+39AJ324w5cSbPgRtEpvhEUUTD+ccPDngKEYDIVmI\n",
       "00QDmfERzpxDwRDq2ZgTyDkCaBqchk6BEJ61etDFScUNCfvCH7jpLogj9X2FVKt41mJhI2UJh+9A\n",
       "Vt/hK8OvX/VPQjUstLUWoKLa5sbyQh7aCzOBql5UTnkyUbdTZj6NajmSjOnmwRKY7FlUVbipHFuS\n",
       "2fn5W+aNuqO0lxCfm47SW4B7JN3gnE6oUBGdLHwT41DfX/mQcLcDfaPnyxLjvOyFTz9a635Mg1RC\n",
       "F0wrSgCqgQQCdmLri2cvF9dbAUIoZWpJvdv0b+M+N8+bIn4XRtwCf3b58AUabJIaNu2Ps8lLXtOz\n",
       "vSiIVxoLZpa9jVv7vdGxBBvR/DzbukFpmHBSD1MLqxPnSHmfGhRWXmDasreM4HOiQpwZsv/47A+N\n",
       "u504n1J2IWBbLRSOW7yp/Jebp5/EeaXGYtkOoTm3FD/0SNUFFbDvG9m21EAERddB/E08fVcg0uIw\n",
       "ivA7VgvAYe5ApYRxE+ECKR7gcyUDogqpnyvaljxsoDG5JLmtb/kr5QwMGAAAAotBmwpJ4Q8mUwIJ\n",
       "f/61KoALcQmQqc1eJshe/grQkf4PliRqAD+txAjsJGL0r4tik8kFh+NE/sVAdjJVhYzQs8oqpipa\n",
       "8O8KTvKCBQChMNoCFyGZxEuULEyUv9jw7uKCeZmDBiadLkWoFqU6npRgwmxg+raNPL75JHfpOQOl\n",
       "Tt3pI05Xe9ZAYGXUtQGLzqp+uqdSccbDsTeriEIrk7im1EDV4rkxCDujSZWHWev+WPr5aVwOKHjo\n",
       "dj3t7laR6NEFipLdiLn0Gsqarw4/hhAXKDe6QZpKli629BxyKM2H6Ym1mOeBxKIIVWj81TD/7umk\n",
       "S4I/EUZiq2qQ2D3EccIP2IHrJ8nzeW7f8flmZE0wmRltOxn7VJcg/C8ouOk+D1JOH+Lpj1PVxn6T\n",
       "Ub62kT7N1Nf6X7L/CGuam6J/Ik2IqSxN74WEl7ORoVyaCaNWOx0ptPQ0LsDjqNFU5sJPyn6TXFAi\n",
       "dbx2DI9ZSTUHWwyACeif53YHFdTmaz3qdDfOc8/CrynwWaMxtzkAkj/YR8/FgzafT66lFgELZQ6n\n",
       "anwoWWQWVb/7NGiXdxzicJGeBbOLsfkAhCPqPgGnAhS5E34W7Lddr2/6Wt+XNzqE5Eyt2nQemSdM\n",
       "W6qtAMg1s7LGRcwMMmyelHvHBoIhc9clx4OAGLoHCW7i3zYlQ5RDQirxyfsraEY0nvSPVopoHMBL\n",
       "ZN1cLNv2oCJgY0T3amjm3f42wOcSuIvEsz5QR171vcy9YRdTNpTLfcLgcHsZlI0071/NNE8VSQ93\n",
       "dBvf/+R3sZ+CRo26gE6EzMpBK4fPAuGUcoMELBEqDrwZky1uoopwafPLeUYedvztIwCONiq6x9+s\n",
       "vK6ZM9AZseISTmcawcEAAAONbW9vdgAAAGxtdmhkAAAAAAAAAAAAAAAAAAAD6AAAFXwAAQAAAQAA\n",
       "AAAAAAAAAAAAAAEAAAAAAAAAAAAAAAAAAAABAAAAAAAAAAAAAAAAAABAAAAAAAAAAAAAAAAAAAAA\n",
       "AAAAAAAAAAAAAAAAAAAAAgAAArh0cmFrAAAAXHRraGQAAAADAAAAAAAAAAAAAAABAAAAAAAAFXwA\n",
       "AAAAAAAAAAAAAAAAAAAAAAEAAAAAAAAAAAAAAAAAAAABAAAAAAAAAAAAAAAAAABAAAAAAoAAAAHg\n",
       "AAAAAAAkZWR0cwAAABxlbHN0AAAAAAAAAAEAABV8AABAAAABAAAAAAIwbWRpYQAAACBtZGhkAAAA\n",
       "AAAAAAAAAAAAAABAAAABYABVxAAAAAAALWhkbHIAAAAAAAAAAHZpZGUAAAAAAAAAAAAAAABWaWRl\n",
       "b0hhbmRsZXIAAAAB221pbmYAAAAUdm1oZAAAAAEAAAAAAAAAAAAAACRkaW5mAAAAHGRyZWYAAAAA\n",
       "AAAAAQAAAAx1cmwgAAAAAQAAAZtzdGJsAAAAt3N0c2QAAAAAAAAAAQAAAKdhdmMxAAAAAAAAAAEA\n",
       "AAAAAAAAAAAAAAAAAAAAAoAB4ABIAAAASAAAAAAAAAABAAAAAAAAAAAAAAAAAAAAAAAAAAAAAAAA\n",
       "AAAAAAAAAAAAGP//AAAANWF2Y0MBZAAW/+EAGGdkABas2UCgPaEAAAMAAQAAAwAEDxYtlgEABmjr\n",
       "48siwP34+AAAAAAcdXVpZGtoQPJfJE/FujmlG88DI/MAAAAAAAAAGHN0dHMAAAAAAAAAAQAAAAsA\n",
       "ACAAAAAAFHN0c3MAAAAAAAAAAQAAAAEAAABAY3R0cwAAAAAAAAAGAAAABgAAQAAAAAABAABgAAAA\n",
       "AAEAACAAAAAAAQAAYAAAAAABAAAgAAAAAAEAAEAAAAAAHHN0c2MAAAAAAAAAAQAAAAEAAAALAAAA\n",
       "AQAAAEBzdHN6AAAAAAAAAAAAAAALAAAgdwAABJ8AAARMAAAEpwAAA80AAAPRAAAD0QAAAYwAAAPj\n",
       "AAACUQAAAo8AAAAUc3RjbwAAAAAAAAABAAAAMAAAAGF1ZHRhAAAAWW1ldGEAAAAAAAAAIWhkbHIA\n",
       "AAAAAAAAAG1kaXJhcHBsAAAAAAAAAAAAAAAALGlsc3QAAAAkqXRvbwAAABxkYXRhAAAAAQAAAABM\n",
       "YXZmNjEuNy4xMDA=\n",
       "\">\n",
       "  Your browser does not support the video tag.\n",
       "</video>"
      ],
      "text/plain": [
       "<IPython.core.display.HTML object>"
      ]
     },
     "execution_count": 46,
     "metadata": {},
     "output_type": "execute_result"
    }
   ],
   "source": [
    "fig, ax = plt.subplots()\n",
    "im = ax.imshow(frames[0], cmap='hot', interpolation='nearest')\n",
    "ax.set_title(\"Heat Distribution\")\n",
    "plt.colorbar(im, ax=ax)\n",
    "\n",
    "def update(frame):\n",
    "    im.set_data(frames[frame])\n",
    "    ax.set_title(f\"Time Step {frame + 1}/{n_frames}\")\n",
    "    return [im]\n",
    "\n",
    "ani = FuncAnimation(fig, update, frames=len(frames), interval=500, blit=True)\n",
    "\n",
    "# Display animation as HTML5 video in Google Colab\n",
    "video = ani.to_html5_video()\n",
    "plt.close(fig)  # Avoid duplicate plot output\n",
    "HTML(video)"
   ]
  },
  {
   "cell_type": "code",
   "execution_count": 47,
   "metadata": {
    "id": "zOmgBUXWWTAg"
   },
   "outputs": [],
   "source": [
    "Nx, Ny = 200, 200          # Number of grid points in x and y\n",
    "alpha = 0.1\n",
    "T = 10*np.random.rand(Nx* Ny)  # Initial temperature distribution\n",
    "A = adjacency_conductivity_matrix(Nx, Ny, alpha)"
   ]
  },
  {
   "cell_type": "code",
   "execution_count": 48,
   "metadata": {
    "colab": {
     "base_uri": "https://localhost:8080/"
    },
    "id": "28WnNS-WvqtV",
    "outputId": "a17da495-b611-47c7-9080-e243db5471ea"
   },
   "outputs": [
    {
     "ename": "KeyboardInterrupt",
     "evalue": "",
     "output_type": "error",
     "traceback": [
      "\u001b[0;31m---------------------------------------------------------------------------\u001b[0m",
      "\u001b[0;31mKeyboardInterrupt\u001b[0m                         Traceback (most recent call last)",
      "Cell \u001b[0;32mIn[48], line 1\u001b[0m\n\u001b[0;32m----> 1\u001b[0m frames \u001b[38;5;241m=\u001b[39m \u001b[43mpredict_heat_distribution_homemade\u001b[49m\u001b[43m(\u001b[49m\u001b[43mA\u001b[49m\u001b[43m,\u001b[49m\u001b[43m \u001b[49m\u001b[43mT\u001b[49m\u001b[43m,\u001b[49m\u001b[43m \u001b[49m\u001b[43mNx\u001b[49m\u001b[43m,\u001b[49m\u001b[43m \u001b[49m\u001b[43mNy\u001b[49m\u001b[43m,\u001b[49m\u001b[43m \u001b[49m\u001b[43mn_frames\u001b[49m\u001b[43m)\u001b[49m\n",
      "Cell \u001b[0;32mIn[44], line 2\u001b[0m, in \u001b[0;36mpredict_heat_distribution_homemade\u001b[0;34m(A, T, Nx, Ny, n_frames)\u001b[0m\n\u001b[1;32m      1\u001b[0m \u001b[38;5;28;01mdef\u001b[39;00m \u001b[38;5;21mpredict_heat_distribution_homemade\u001b[39m(A, T, Nx, Ny, n_frames):\n\u001b[0;32m----> 2\u001b[0m   order \u001b[38;5;241m=\u001b[39m \u001b[43mnested_dissection\u001b[49m\u001b[43m(\u001b[49m\u001b[43mA\u001b[49m\u001b[43m,\u001b[49m\u001b[43m \u001b[49m\u001b[38;5;241;43m500\u001b[39;49m\u001b[43m)\u001b[49m\n\u001b[1;32m      3\u001b[0m   B \u001b[38;5;241m=\u001b[39m A[order, :][:, order]\n\u001b[1;32m      5\u001b[0m   cholesky_factorization \u001b[38;5;241m=\u001b[39m cholesky(B, ordering_method\u001b[38;5;241m=\u001b[39m\u001b[38;5;124m'\u001b[39m\u001b[38;5;124mnatural\u001b[39m\u001b[38;5;124m'\u001b[39m)\n",
      "Cell \u001b[0;32mIn[22], line 31\u001b[0m, in \u001b[0;36mnested_dissection\u001b[0;34m(A, k)\u001b[0m\n\u001b[1;32m     29\u001b[0m \u001b[38;5;66;03m# Start recursion with all nodes\u001b[39;00m\n\u001b[1;32m     30\u001b[0m all_nodes \u001b[38;5;241m=\u001b[39m \u001b[38;5;28mlist\u001b[39m(\u001b[38;5;28mrange\u001b[39m(A\u001b[38;5;241m.\u001b[39mshape[\u001b[38;5;241m0\u001b[39m]))\n\u001b[0;32m---> 31\u001b[0m permutation \u001b[38;5;241m=\u001b[39m \u001b[43mrecursive_nd\u001b[49m\u001b[43m(\u001b[49m\u001b[43mA\u001b[49m\u001b[43m,\u001b[49m\u001b[43m \u001b[49m\u001b[43mall_nodes\u001b[49m\u001b[43m,\u001b[49m\u001b[43m \u001b[49m\u001b[43mk\u001b[49m\u001b[43m)\u001b[49m\n\u001b[1;32m     33\u001b[0m \u001b[38;5;28;01mreturn\u001b[39;00m permutation\n",
      "Cell \u001b[0;32mIn[22], line 24\u001b[0m, in \u001b[0;36mnested_dissection.<locals>.recursive_nd\u001b[0;34m(A, nodes, k)\u001b[0m\n\u001b[1;32m     22\u001b[0m \u001b[38;5;66;03m# Recursively apply Nested Dissection on A and B\u001b[39;00m\n\u001b[1;32m     23\u001b[0m perm_A \u001b[38;5;241m=\u001b[39m recursive_nd(A, A_nodes_original, k)\n\u001b[0;32m---> 24\u001b[0m perm_B \u001b[38;5;241m=\u001b[39m \u001b[43mrecursive_nd\u001b[49m\u001b[43m(\u001b[49m\u001b[43mA\u001b[49m\u001b[43m,\u001b[49m\u001b[43m \u001b[49m\u001b[43mB_nodes_original\u001b[49m\u001b[43m,\u001b[49m\u001b[43m \u001b[49m\u001b[43mk\u001b[49m\u001b[43m)\u001b[49m\n\u001b[1;32m     26\u001b[0m \u001b[38;5;66;03m# Combine the permutation orders: A, B, S\u001b[39;00m\n\u001b[1;32m     27\u001b[0m \u001b[38;5;28;01mreturn\u001b[39;00m perm_A \u001b[38;5;241m+\u001b[39m perm_B \u001b[38;5;241m+\u001b[39m S_nodes_original\n",
      "Cell \u001b[0;32mIn[22], line 24\u001b[0m, in \u001b[0;36mnested_dissection.<locals>.recursive_nd\u001b[0;34m(A, nodes, k)\u001b[0m\n\u001b[1;32m     22\u001b[0m \u001b[38;5;66;03m# Recursively apply Nested Dissection on A and B\u001b[39;00m\n\u001b[1;32m     23\u001b[0m perm_A \u001b[38;5;241m=\u001b[39m recursive_nd(A, A_nodes_original, k)\n\u001b[0;32m---> 24\u001b[0m perm_B \u001b[38;5;241m=\u001b[39m \u001b[43mrecursive_nd\u001b[49m\u001b[43m(\u001b[49m\u001b[43mA\u001b[49m\u001b[43m,\u001b[49m\u001b[43m \u001b[49m\u001b[43mB_nodes_original\u001b[49m\u001b[43m,\u001b[49m\u001b[43m \u001b[49m\u001b[43mk\u001b[49m\u001b[43m)\u001b[49m\n\u001b[1;32m     26\u001b[0m \u001b[38;5;66;03m# Combine the permutation orders: A, B, S\u001b[39;00m\n\u001b[1;32m     27\u001b[0m \u001b[38;5;28;01mreturn\u001b[39;00m perm_A \u001b[38;5;241m+\u001b[39m perm_B \u001b[38;5;241m+\u001b[39m S_nodes_original\n",
      "    \u001b[0;31m[... skipping similar frames: nested_dissection.<locals>.recursive_nd at line 24 (2 times)]\u001b[0m\n",
      "Cell \u001b[0;32mIn[22], line 23\u001b[0m, in \u001b[0;36mnested_dissection.<locals>.recursive_nd\u001b[0;34m(A, nodes, k)\u001b[0m\n\u001b[1;32m     20\u001b[0m S_nodes_original \u001b[38;5;241m=\u001b[39m [nodes[i] \u001b[38;5;28;01mfor\u001b[39;00m i \u001b[38;5;129;01min\u001b[39;00m S_nodes]\n\u001b[1;32m     22\u001b[0m \u001b[38;5;66;03m# Recursively apply Nested Dissection on A and B\u001b[39;00m\n\u001b[0;32m---> 23\u001b[0m perm_A \u001b[38;5;241m=\u001b[39m \u001b[43mrecursive_nd\u001b[49m\u001b[43m(\u001b[49m\u001b[43mA\u001b[49m\u001b[43m,\u001b[49m\u001b[43m \u001b[49m\u001b[43mA_nodes_original\u001b[49m\u001b[43m,\u001b[49m\u001b[43m \u001b[49m\u001b[43mk\u001b[49m\u001b[43m)\u001b[49m\n\u001b[1;32m     24\u001b[0m perm_B \u001b[38;5;241m=\u001b[39m recursive_nd(A, B_nodes_original, k)\n\u001b[1;32m     26\u001b[0m \u001b[38;5;66;03m# Combine the permutation orders: A, B, S\u001b[39;00m\n",
      "    \u001b[0;31m[... skipping similar frames: nested_dissection.<locals>.recursive_nd at line 24 (2 times)]\u001b[0m\n",
      "Cell \u001b[0;32mIn[22], line 23\u001b[0m, in \u001b[0;36mnested_dissection.<locals>.recursive_nd\u001b[0;34m(A, nodes, k)\u001b[0m\n\u001b[1;32m     20\u001b[0m S_nodes_original \u001b[38;5;241m=\u001b[39m [nodes[i] \u001b[38;5;28;01mfor\u001b[39;00m i \u001b[38;5;129;01min\u001b[39;00m S_nodes]\n\u001b[1;32m     22\u001b[0m \u001b[38;5;66;03m# Recursively apply Nested Dissection on A and B\u001b[39;00m\n\u001b[0;32m---> 23\u001b[0m perm_A \u001b[38;5;241m=\u001b[39m \u001b[43mrecursive_nd\u001b[49m\u001b[43m(\u001b[49m\u001b[43mA\u001b[49m\u001b[43m,\u001b[49m\u001b[43m \u001b[49m\u001b[43mA_nodes_original\u001b[49m\u001b[43m,\u001b[49m\u001b[43m \u001b[49m\u001b[43mk\u001b[49m\u001b[43m)\u001b[49m\n\u001b[1;32m     24\u001b[0m perm_B \u001b[38;5;241m=\u001b[39m recursive_nd(A, B_nodes_original, k)\n\u001b[1;32m     26\u001b[0m \u001b[38;5;66;03m# Combine the permutation orders: A, B, S\u001b[39;00m\n",
      "    \u001b[0;31m[... skipping similar frames: nested_dissection.<locals>.recursive_nd at line 24 (76 times), nested_dissection.<locals>.recursive_nd at line 23 (54 times)]\u001b[0m\n",
      "Cell \u001b[0;32mIn[22], line 24\u001b[0m, in \u001b[0;36mnested_dissection.<locals>.recursive_nd\u001b[0;34m(A, nodes, k)\u001b[0m\n\u001b[1;32m     22\u001b[0m \u001b[38;5;66;03m# Recursively apply Nested Dissection on A and B\u001b[39;00m\n\u001b[1;32m     23\u001b[0m perm_A \u001b[38;5;241m=\u001b[39m recursive_nd(A, A_nodes_original, k)\n\u001b[0;32m---> 24\u001b[0m perm_B \u001b[38;5;241m=\u001b[39m \u001b[43mrecursive_nd\u001b[49m\u001b[43m(\u001b[49m\u001b[43mA\u001b[49m\u001b[43m,\u001b[49m\u001b[43m \u001b[49m\u001b[43mB_nodes_original\u001b[49m\u001b[43m,\u001b[49m\u001b[43m \u001b[49m\u001b[43mk\u001b[49m\u001b[43m)\u001b[49m\n\u001b[1;32m     26\u001b[0m \u001b[38;5;66;03m# Combine the permutation orders: A, B, S\u001b[39;00m\n\u001b[1;32m     27\u001b[0m \u001b[38;5;28;01mreturn\u001b[39;00m perm_A \u001b[38;5;241m+\u001b[39m perm_B \u001b[38;5;241m+\u001b[39m S_nodes_original\n",
      "Cell \u001b[0;32mIn[22], line 23\u001b[0m, in \u001b[0;36mnested_dissection.<locals>.recursive_nd\u001b[0;34m(A, nodes, k)\u001b[0m\n\u001b[1;32m     20\u001b[0m S_nodes_original \u001b[38;5;241m=\u001b[39m [nodes[i] \u001b[38;5;28;01mfor\u001b[39;00m i \u001b[38;5;129;01min\u001b[39;00m S_nodes]\n\u001b[1;32m     22\u001b[0m \u001b[38;5;66;03m# Recursively apply Nested Dissection on A and B\u001b[39;00m\n\u001b[0;32m---> 23\u001b[0m perm_A \u001b[38;5;241m=\u001b[39m \u001b[43mrecursive_nd\u001b[49m\u001b[43m(\u001b[49m\u001b[43mA\u001b[49m\u001b[43m,\u001b[49m\u001b[43m \u001b[49m\u001b[43mA_nodes_original\u001b[49m\u001b[43m,\u001b[49m\u001b[43m \u001b[49m\u001b[43mk\u001b[49m\u001b[43m)\u001b[49m\n\u001b[1;32m     24\u001b[0m perm_B \u001b[38;5;241m=\u001b[39m recursive_nd(A, B_nodes_original, k)\n\u001b[1;32m     26\u001b[0m \u001b[38;5;66;03m# Combine the permutation orders: A, B, S\u001b[39;00m\n",
      "Cell \u001b[0;32mIn[22], line 15\u001b[0m, in \u001b[0;36mnested_dissection.<locals>.recursive_nd\u001b[0;34m(A, nodes, k)\u001b[0m\n\u001b[1;32m     12\u001b[0m subA \u001b[38;5;241m=\u001b[39m A[nodes, :][:, nodes]\n\u001b[1;32m     14\u001b[0m \u001b[38;5;66;03m# Partition the submatrix into A, B, S using permute_to_arrowhead\u001b[39;00m\n\u001b[0;32m---> 15\u001b[0m A_nodes, B_nodes, S_nodes \u001b[38;5;241m=\u001b[39m \u001b[43morder_block_dissection\u001b[49m\u001b[43m(\u001b[49m\u001b[43msubA\u001b[49m\u001b[43m)\u001b[49m\n\u001b[1;32m     17\u001b[0m \u001b[38;5;66;03m# Map back to original node indices\u001b[39;00m\n\u001b[1;32m     18\u001b[0m A_nodes_original \u001b[38;5;241m=\u001b[39m [nodes[i] \u001b[38;5;28;01mfor\u001b[39;00m i \u001b[38;5;129;01min\u001b[39;00m A_nodes]\n",
      "Cell \u001b[0;32mIn[18], line 7\u001b[0m, in \u001b[0;36morder_block_dissection\u001b[0;34m(A)\u001b[0m\n\u001b[1;32m      4\u001b[0m L \u001b[38;5;241m=\u001b[39m sp\u001b[38;5;241m.\u001b[39mdiags(degrees, \u001b[38;5;28mformat\u001b[39m\u001b[38;5;241m=\u001b[39m\u001b[38;5;124m'\u001b[39m\u001b[38;5;124mcsr\u001b[39m\u001b[38;5;124m'\u001b[39m) \u001b[38;5;241m-\u001b[39m A\n\u001b[1;32m      6\u001b[0m \u001b[38;5;66;03m# Second smallest eigenvector\u001b[39;00m\n\u001b[0;32m----> 7\u001b[0m eigenvalues, eigenvectors \u001b[38;5;241m=\u001b[39m \u001b[43mspsplin\u001b[49m\u001b[38;5;241;43m.\u001b[39;49m\u001b[43meigsh\u001b[49m\u001b[43m(\u001b[49m\u001b[43mL\u001b[49m\u001b[43m,\u001b[49m\u001b[43m \u001b[49m\u001b[43mk\u001b[49m\u001b[38;5;241;43m=\u001b[39;49m\u001b[38;5;241;43m2\u001b[39;49m\u001b[43m,\u001b[49m\u001b[43m \u001b[49m\u001b[43mwhich\u001b[49m\u001b[38;5;241;43m=\u001b[39;49m\u001b[38;5;124;43m'\u001b[39;49m\u001b[38;5;124;43mSM\u001b[39;49m\u001b[38;5;124;43m'\u001b[39;49m\u001b[43m)\u001b[49m\n\u001b[1;32m      8\u001b[0m fiedler_vector \u001b[38;5;241m=\u001b[39m eigenvectors[:, \u001b[38;5;241m1\u001b[39m]\n\u001b[1;32m     10\u001b[0m \u001b[38;5;66;03m# Partition nodes\u001b[39;00m\n",
      "File \u001b[0;32m~/miniconda3/envs/nla/lib/python3.12/site-packages/scipy/sparse/linalg/_eigen/arpack/arpack.py:1700\u001b[0m, in \u001b[0;36meigsh\u001b[0;34m(A, k, M, sigma, which, v0, ncv, maxiter, tol, return_eigenvectors, Minv, OPinv, mode)\u001b[0m\n\u001b[1;32m   1698\u001b[0m \u001b[38;5;28;01mwith\u001b[39;00m _ARPACK_LOCK:\n\u001b[1;32m   1699\u001b[0m     \u001b[38;5;28;01mwhile\u001b[39;00m \u001b[38;5;129;01mnot\u001b[39;00m params\u001b[38;5;241m.\u001b[39mconverged:\n\u001b[0;32m-> 1700\u001b[0m         \u001b[43mparams\u001b[49m\u001b[38;5;241;43m.\u001b[39;49m\u001b[43miterate\u001b[49m\u001b[43m(\u001b[49m\u001b[43m)\u001b[49m\n\u001b[1;32m   1702\u001b[0m     \u001b[38;5;28;01mreturn\u001b[39;00m params\u001b[38;5;241m.\u001b[39mextract(return_eigenvectors)\n",
      "File \u001b[0;32m~/miniconda3/envs/nla/lib/python3.12/site-packages/scipy/sparse/linalg/_eigen/arpack/arpack.py:537\u001b[0m, in \u001b[0;36m_SymmetricArpackParams.iterate\u001b[0;34m(self)\u001b[0m\n\u001b[1;32m    535\u001b[0m \u001b[38;5;28;01mdef\u001b[39;00m \u001b[38;5;21miterate\u001b[39m(\u001b[38;5;28mself\u001b[39m):\n\u001b[1;32m    536\u001b[0m     \u001b[38;5;28mself\u001b[39m\u001b[38;5;241m.\u001b[39mido, \u001b[38;5;28mself\u001b[39m\u001b[38;5;241m.\u001b[39mtol, \u001b[38;5;28mself\u001b[39m\u001b[38;5;241m.\u001b[39mresid, \u001b[38;5;28mself\u001b[39m\u001b[38;5;241m.\u001b[39mv, \u001b[38;5;28mself\u001b[39m\u001b[38;5;241m.\u001b[39miparam, \u001b[38;5;28mself\u001b[39m\u001b[38;5;241m.\u001b[39mipntr, \u001b[38;5;28mself\u001b[39m\u001b[38;5;241m.\u001b[39minfo \u001b[38;5;241m=\u001b[39m \\\n\u001b[0;32m--> 537\u001b[0m         \u001b[38;5;28;43mself\u001b[39;49m\u001b[38;5;241;43m.\u001b[39;49m\u001b[43m_arpack_solver\u001b[49m\u001b[43m(\u001b[49m\u001b[38;5;28;43mself\u001b[39;49m\u001b[38;5;241;43m.\u001b[39;49m\u001b[43mido\u001b[49m\u001b[43m,\u001b[49m\u001b[43m \u001b[49m\u001b[38;5;28;43mself\u001b[39;49m\u001b[38;5;241;43m.\u001b[39;49m\u001b[43mbmat\u001b[49m\u001b[43m,\u001b[49m\u001b[43m \u001b[49m\u001b[38;5;28;43mself\u001b[39;49m\u001b[38;5;241;43m.\u001b[39;49m\u001b[43mwhich\u001b[49m\u001b[43m,\u001b[49m\u001b[43m \u001b[49m\u001b[38;5;28;43mself\u001b[39;49m\u001b[38;5;241;43m.\u001b[39;49m\u001b[43mk\u001b[49m\u001b[43m,\u001b[49m\n\u001b[1;32m    538\u001b[0m \u001b[43m                            \u001b[49m\u001b[38;5;28;43mself\u001b[39;49m\u001b[38;5;241;43m.\u001b[39;49m\u001b[43mtol\u001b[49m\u001b[43m,\u001b[49m\u001b[43m \u001b[49m\u001b[38;5;28;43mself\u001b[39;49m\u001b[38;5;241;43m.\u001b[39;49m\u001b[43mresid\u001b[49m\u001b[43m,\u001b[49m\u001b[43m \u001b[49m\u001b[38;5;28;43mself\u001b[39;49m\u001b[38;5;241;43m.\u001b[39;49m\u001b[43mv\u001b[49m\u001b[43m,\u001b[49m\u001b[43m \u001b[49m\u001b[38;5;28;43mself\u001b[39;49m\u001b[38;5;241;43m.\u001b[39;49m\u001b[43miparam\u001b[49m\u001b[43m,\u001b[49m\n\u001b[1;32m    539\u001b[0m \u001b[43m                            \u001b[49m\u001b[38;5;28;43mself\u001b[39;49m\u001b[38;5;241;43m.\u001b[39;49m\u001b[43mipntr\u001b[49m\u001b[43m,\u001b[49m\u001b[43m \u001b[49m\u001b[38;5;28;43mself\u001b[39;49m\u001b[38;5;241;43m.\u001b[39;49m\u001b[43mworkd\u001b[49m\u001b[43m,\u001b[49m\u001b[43m \u001b[49m\u001b[38;5;28;43mself\u001b[39;49m\u001b[38;5;241;43m.\u001b[39;49m\u001b[43mworkl\u001b[49m\u001b[43m,\u001b[49m\u001b[43m \u001b[49m\u001b[38;5;28;43mself\u001b[39;49m\u001b[38;5;241;43m.\u001b[39;49m\u001b[43minfo\u001b[49m\u001b[43m)\u001b[49m\n\u001b[1;32m    541\u001b[0m     xslice \u001b[38;5;241m=\u001b[39m \u001b[38;5;28mslice\u001b[39m(\u001b[38;5;28mself\u001b[39m\u001b[38;5;241m.\u001b[39mipntr[\u001b[38;5;241m0\u001b[39m] \u001b[38;5;241m-\u001b[39m \u001b[38;5;241m1\u001b[39m, \u001b[38;5;28mself\u001b[39m\u001b[38;5;241m.\u001b[39mipntr[\u001b[38;5;241m0\u001b[39m] \u001b[38;5;241m-\u001b[39m \u001b[38;5;241m1\u001b[39m \u001b[38;5;241m+\u001b[39m \u001b[38;5;28mself\u001b[39m\u001b[38;5;241m.\u001b[39mn)\n\u001b[1;32m    542\u001b[0m     yslice \u001b[38;5;241m=\u001b[39m \u001b[38;5;28mslice\u001b[39m(\u001b[38;5;28mself\u001b[39m\u001b[38;5;241m.\u001b[39mipntr[\u001b[38;5;241m1\u001b[39m] \u001b[38;5;241m-\u001b[39m \u001b[38;5;241m1\u001b[39m, \u001b[38;5;28mself\u001b[39m\u001b[38;5;241m.\u001b[39mipntr[\u001b[38;5;241m1\u001b[39m] \u001b[38;5;241m-\u001b[39m \u001b[38;5;241m1\u001b[39m \u001b[38;5;241m+\u001b[39m \u001b[38;5;28mself\u001b[39m\u001b[38;5;241m.\u001b[39mn)\n",
      "\u001b[0;31mKeyboardInterrupt\u001b[0m: "
     ]
    }
   ],
   "source": [
    "frames = predict_heat_distribution_homemade(A, T, Nx, Ny, n_frames)"
   ]
  },
  {
   "cell_type": "code",
   "execution_count": null,
   "metadata": {
    "colab": {
     "base_uri": "https://localhost:8080/",
     "height": 501
    },
    "id": "-kU0ZrHhWdXe",
    "outputId": "c767504d-1c97-453b-ef6b-470df1b48daa"
   },
   "outputs": [],
   "source": [
    "fig, ax = plt.subplots()\n",
    "im = ax.imshow(frames[0], cmap='hot', interpolation='nearest')\n",
    "ax.set_title(\"Heat Distribution\")\n",
    "plt.colorbar(im, ax=ax)\n",
    "\n",
    "def update(frame):\n",
    "    im.set_data(frames[frame])\n",
    "    ax.set_title(f\"Time Step {frame + 1}/{n_frames}\")\n",
    "    return [im]\n",
    "\n",
    "ani = FuncAnimation(fig, update, frames=len(frames), interval=500)\n",
    "\n",
    "# Display animation as HTML5 video in Google Colab\n",
    "video = ani.to_html5_video()\n",
    "plt.close(fig)  # Avoid duplicate plot output\n",
    "HTML(video)"
   ]
  },
  {
   "cell_type": "markdown",
   "metadata": {
    "id": "1gkYU7dq6sgI"
   },
   "source": [
    "### Task 3 (5 pts):\n",
    "Compare computation and memory efficiency of Cholesky using intact matrix with your implementation of Nested Dissection with built-in method."
   ]
  },
  {
   "cell_type": "code",
   "execution_count": null,
   "metadata": {
    "id": "FQhMwX1y7C6X"
   },
   "outputs": [],
   "source": [
    "def predict_heat_distribution_naive(A, T, Nx, Ny, n_frames):\n",
    "  cholesky_factorization = cholesky(A)\n",
    "\n",
    "  frames = [T.copy().reshape((Nx, Ny))]\n",
    "\n",
    "  for _ in tqdm(range(n_frames)):\n",
    "    # Solve sparse linear system for next time step\n",
    "    T = cholesky_factorization.solve_A(T, ordering_method='natural')\n",
    "    frames.append(T.reshape((Nx, Ny)))\n",
    "  return frames"
   ]
  },
  {
   "cell_type": "code",
   "execution_count": null,
   "metadata": {
    "id": "RGFtGlTgV2zp"
   },
   "outputs": [],
   "source": [
    "def predict_heat_distribution(A, T, Nx, Ny, n_frames):\n",
    "  cholesky_factorization = cholesky(A)\n",
    "\n",
    "  frames = [T.copy().reshape((Nx, Ny))]\n",
    "\n",
    "  for _ in tqdm(range(n_frames)):\n",
    "    # Solve sparse linear system for next time step\n",
    "    T = cholesky_factorization.solve_A(T)\n",
    "    frames.append(T.reshape((Nx, Ny)))\n",
    "  return frames"
   ]
  },
  {
   "cell_type": "markdown",
   "metadata": {
    "id": "P-aHimUorwYB"
   },
   "source": [
    "## Clusterisation of musical notes with FFT and PCA (10 pts)"
   ]
  },
  {
   "cell_type": "markdown",
   "metadata": {},
   "source": [
    "A [link](https://drive.google.com/drive/folders/11Nvytewu8_QAWOTPGkfDD0bl9j5lb8Ee?usp=sharing) to the wav files."
   ]
  },
  {
   "cell_type": "code",
   "execution_count": null,
   "metadata": {
    "id": "d4kP3Ofd4mrU"
   },
   "outputs": [],
   "source": [
    "import numpy as np\n",
    "from scipy.io import wavfile\n",
    "from numpy.fft import fft, ifft\n",
    "import matplotlib.pyplot as plt"
   ]
  },
  {
   "cell_type": "markdown",
   "metadata": {
    "id": "c-kgd57Zn7W5"
   },
   "source": [
    "### Implement FFT via Cooley-Tukey (check lectures) (5 pts)"
   ]
  },
  {
   "cell_type": "code",
   "execution_count": null,
   "metadata": {
    "id": "I-vul22bkkn7"
   },
   "outputs": [],
   "source": [
    "def FFT(x):\n",
    "    \"\"\"\n",
    "    1D Cooly-Tukey, for input of size 2**n\n",
    "    \"\"\"\n",
    "\n",
    "\n",
    "    '''\n",
    "    Replace with your own implementation\n",
    "    '''\n",
    "\n",
    "    return fft(x)"
   ]
  },
  {
   "cell_type": "markdown",
   "metadata": {
    "id": "FqmprJi8oGsb"
   },
   "source": [
    "### PCA (use SVD library func) (5 pts)"
   ]
  },
  {
   "cell_type": "code",
   "execution_count": null,
   "metadata": {
    "id": "fpeXdqTwoFWT"
   },
   "outputs": [],
   "source": [
    "def calc_PCA(matrix, n_components):\n",
    "    # as input: matrix (n_samples, n_features)\n",
    "    # as output: matrix (n_samples, n_features)\n",
    "\n",
    "    '''\n",
    "    replace with your own func!\n",
    "    '''\n",
    "\n",
    "    from sklearn.decomposition import PCA\n",
    "    a = PCA(n_components)\n",
    "    return a.fit_transform(matrix)"
   ]
  },
  {
   "cell_type": "markdown",
   "metadata": {
    "id": "j5KHcGxXBxtn"
   },
   "source": [
    "### Read files + Utils"
   ]
  },
  {
   "cell_type": "code",
   "execution_count": null,
   "metadata": {
    "id": "wxt7y8lUBy8y"
   },
   "outputs": [],
   "source": [
    "def process_audio(filename):\n",
    "    samplerate, data = wavfile.read(f'./{filename}.wav')\n",
    "    if len(data.shape) > 1:\n",
    "        # convert to mono\n",
    "        data = data[:, 0]\n",
    "\n",
    "    data_splitted = []\n",
    "\n",
    "    w_size = 2048\n",
    "    for indent in [0, 512, 1024, 1024 + 512]:\n",
    "        data_i = data[indent:]\n",
    "        data_i = data_i[:data_i.shape[0] - data_i.shape[0] % w_size]\n",
    "        n_splits = data_i.shape[0] // w_size\n",
    "        # print(data.shape)\n",
    "        data_splitted.append(np.split(data_i, n_splits))\n",
    "\n",
    "    data_splitted = np.concatenate(data_splitted)\n",
    "\n",
    "\n",
    "    a = FFT(data_splitted)\n",
    "    a = a / np.linalg.norm(a, axis=1).reshape(-1, 1)\n",
    "    return a, [filename] * a.shape[0]"
   ]
  },
  {
   "cell_type": "code",
   "execution_count": null,
   "metadata": {
    "id": "maXtYd-uqD6e"
   },
   "outputs": [],
   "source": [
    "chunks, labels = [], []\n",
    "\n",
    "for fl in ['a1', 'b1', 'c1', 'e1', 'f1', 'g1', 'a1s', 'c1s', 'd1s', 'f1s', 'g1s']:\n",
    "    z, x = process_audio(fl)\n",
    "    chunks.append(z)\n",
    "    labels.append(x)\n",
    "\n"
   ]
  },
  {
   "cell_type": "code",
   "execution_count": null,
   "metadata": {
    "id": "HMGW5ornEKno"
   },
   "outputs": [],
   "source": [
    "labels_concat = []\n",
    "for l in labels:\n",
    "    labels_concat += l"
   ]
  },
  {
   "cell_type": "code",
   "execution_count": null,
   "metadata": {
    "id": "5gP4zsKmDL2Z"
   },
   "outputs": [],
   "source": [
    "chunks_np = np.abs(np.concatenate(chunks))"
   ]
  },
  {
   "cell_type": "code",
   "execution_count": null,
   "metadata": {
    "id": "eqbtfxlKDNxr"
   },
   "outputs": [],
   "source": [
    "chunks_fitted = calc_PCA(chunks_np, 4)"
   ]
  },
  {
   "cell_type": "markdown",
   "metadata": {
    "id": "ac5SRGQvp5nz"
   },
   "source": [
    "### Visualisation"
   ]
  },
  {
   "cell_type": "code",
   "execution_count": null,
   "metadata": {
    "id": "KXe4JANrEWFb"
   },
   "outputs": [],
   "source": [
    "colors = {\n",
    "    'a1': 'red',\n",
    "    'a1s': 'pink',\n",
    "    'b1': 'green',\n",
    "    'c1': 'blue',\n",
    "    'c1s': 'olive',\n",
    "    'd1s': 'purple',\n",
    "    'e1': 'cyan',\n",
    "    'f1': 'orange',\n",
    "    'f1s': 'black',\n",
    "    'g1': 'yellow',\n",
    "    'g1s': 'blueviolet',\n",
    "\n",
    "}\n",
    "color_labels = [colors[d] for d in labels_concat]"
   ]
  },
  {
   "cell_type": "code",
   "execution_count": null,
   "metadata": {
    "colab": {
     "base_uri": "https://localhost:8080/",
     "height": 448
    },
    "id": "l6bEqLkQD7Ml",
    "outputId": "3df2daf0-781f-445e-a8fc-5660086eb64c"
   },
   "outputs": [],
   "source": [
    "plt.scatter(chunks_fitted[:, 0], chunks_fitted[:, 3], color=color_labels)"
   ]
  },
  {
   "cell_type": "code",
   "execution_count": null,
   "metadata": {
    "colab": {
     "base_uri": "https://localhost:8080/",
     "height": 448
    },
    "id": "5b1vsv_rGCi3",
    "outputId": "02694097-1ed6-4c60-99ad-e852f6a9d994"
   },
   "outputs": [],
   "source": [
    "plt.scatter(chunks_fitted[:, 0], chunks_fitted[:, 2], color=color_labels)"
   ]
  }
 ],
 "metadata": {
  "colab": {
   "collapsed_sections": [
    "5IKq_VeVlZXv",
    "lz4YSC5y_vp3",
    "xnRGMjaIwaML"
   ],
   "provenance": []
  },
  "kernelspec": {
   "display_name": "nla",
   "language": "python",
   "name": "python3"
  },
  "language_info": {
   "codemirror_mode": {
    "name": "ipython",
    "version": 3
   },
   "file_extension": ".py",
   "mimetype": "text/x-python",
   "name": "python",
   "nbconvert_exporter": "python",
   "pygments_lexer": "ipython3",
   "version": "3.12.2"
  }
 },
 "nbformat": 4,
 "nbformat_minor": 1
}
